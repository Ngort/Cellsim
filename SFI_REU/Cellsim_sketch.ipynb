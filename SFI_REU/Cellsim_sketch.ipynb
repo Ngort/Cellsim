{
 "cells": [
  {
   "cell_type": "code",
   "execution_count": 252,
   "metadata": {
    "collapsed": true
   },
   "outputs": [],
   "source": [
    "import numpy as np\n",
    "import matplotlib.pyplot as plt\n",
    "\n",
    "from functools import partial\n",
    "from math import log\n",
    "from matplotlib.colors import LogNorm\n",
    "from scipy.integrate import odeint\n",
    "from scipy.stats import entropy\n",
    "\n",
    "import seaborn as sns"
   ]
  },
  {
   "cell_type": "code",
   "execution_count": 253,
   "metadata": {
    "collapsed": true
   },
   "outputs": [],
   "source": [
    "k = 10\n",
    "genes = np.zeros(k)"
   ]
  },
  {
   "cell_type": "code",
   "execution_count": 254,
   "metadata": {},
   "outputs": [],
   "source": [
    "sns.set()"
   ]
  },
  {
   "cell_type": "code",
   "execution_count": 255,
   "metadata": {
    "collapsed": true
   },
   "outputs": [
    {
     "data": {
      "text/plain": [
       "-inf"
      ]
     },
     "execution_count": 255,
     "metadata": {},
     "output_type": "execute_result"
    }
   ],
   "source": [
    "entropy(seriesb)"
   ]
  },
  {
   "cell_type": "code",
   "execution_count": 11,
   "metadata": {},
   "outputs": [],
   "source": [
    "gamma = 0.0138172\n",
    "rho = 0.2\n",
    "\n",
    "eta = 6.205e-6\n",
    "phi = 6.205e-6\n",
    "xi = 6.205e-6\n",
    "\n",
    "k1=10e-12\n",
    "k2=10e-3\n",
    "r_r = 1e-1\n",
    "l_r = 5000\n",
    "l_p = 975\n",
    "\n",
    "\n",
    "def dN_dt(X, t=0,\n",
    "        gamma = 0.0138172,\n",
    "        rho = 0.2,\n",
    "        eta = 6.205e-6,\n",
    "        phi = 6.205e-6,\n",
    "        xi = 6.205e-6,\n",
    "        k1 = 10e-12,\n",
    "        k2=10e-3,\n",
    "        r_r = 1e-1,\n",
    "        l_r = 5000,\n",
    "        l_p = 975):\n",
    "    \n",
    "    M = X[0] #X[0] = [mRNA](t)\n",
    "    AA = X[1] #X[1] = [aminoacids](t)\n",
    "    R = X[2] #X[2] = [ribosomes](t)\n",
    "    P = X[3] #X[3] = [proteins](t)\n",
    "    ATP = X[4] #X[4] = [ATP](t)\n",
    "    ADP = X[5] #X[5] = [ADP](t)\n",
    " \n",
    "    dM_dt = rho*P - xi*M\n",
    "    dR_dt = gamma*AA*R*k1*r_r/l_r - eta*R\n",
    "    dP_dt = (1-gamma)*AA*R*k2*r_r/(l_p) - phi*P\n",
    "    dAA_dt = -1*l_p*dP_dt - l_r*dR_dt\n",
    "    dATP_dt = -dAA_dt*4\n",
    "    dADP_dt =  -dATP_dt\n",
    "    \n",
    "    \n",
    "    return np.array([\n",
    "        dM_dt,\n",
    "        dAA_dt,\n",
    "        dR_dt,\n",
    "        dP_dt,\n",
    "        dATP_dt,\n",
    "        dADP_dt\n",
    "        \n",
    "    ])\n",
    "\n",
    "def cell_generation(initial_array=np.array([10e10,10e18,5773,2.11e6,10e18,0]).reshape(1,-1),\n",
    "                    gamma = 0.0138172,\n",
    "                    rho = 0.2,\n",
    "                    eta = 6.205e-6,\n",
    "                    phi = 6.205e-6,\n",
    "                    xi = 6.205e-6,\n",
    "                    k1=10e-12,\n",
    "                    k2=10e-3,\n",
    "                    r_r = 1e-1,\n",
    "                    l_r = 5000,\n",
    "                    l_p = 975,\n",
    "                    timesteps=2000):\n",
    "\n",
    "    initial_mrna = initial_array[-1,0]/2\n",
    "    initial_aa = initial_array[-1,1]/2\n",
    "    initial_ribosomes = initial_array[-1,2]/2\n",
    "    initial_proteins = initial_array[-1,3]/2\n",
    "    initial_atp = initial_array[-1,4]/2\n",
    "    initial_adp = initial_array[-1,5]/2\n",
    "    \n",
    "    t = np.arange(timesteps)\n",
    "    \n",
    "    return np.row_stack([initial_array,\n",
    "                            odeint(partial(dN_dt,gamma = gamma,\n",
    "                                        rho = rho,\n",
    "                                        eta = eta,\n",
    "                                        phi = phi,\n",
    "                                        xi = xi,\n",
    "                                        k1= k1,\n",
    "                                        k2= k2,\n",
    "                                        r_r = r_r,\n",
    "                                        l_r = l_r,\n",
    "                                        l_p = l_p), \n",
    "                                           [initial_mrna, \n",
    "                                           initial_aa,\n",
    "                                           initial_ribosomes,\n",
    "                                           initial_proteins,\n",
    "                                           initial_atp,\n",
    "                                           initial_adp], t)])\n",
    "\n",
    "def sim_cell_dynamics(n_generations, t_per_generation,\n",
    "                    initial_array = np.array([10e10,10e18,5773,2.11e6,10e18,0]).reshape(1,-1),  \n",
    "                    gamma = 0.0138172,\n",
    "                    rho = 0.2,\n",
    "                    eta = 6.205e-6,\n",
    "                    phi = 6.205e-6,\n",
    "                    xi = 6.205e-6,\n",
    "                    k1=1,\n",
    "                    k2=1,\n",
    "                    r_r = 1e-1,\n",
    "                    l_r = 5000,\n",
    "                    l_p = 975):\n",
    "    \n",
    "    #global gamma, rho, eta, phi, xi, k1, k2, r_r, l_r, l_p\n",
    "    \n",
    "    cell = cell_generation(timesteps=t_per_generation, initial_array = initial_array, gamma=gamma, rho=rho, eta=eta, \n",
    "                           phi=phi, xi=xi, k1=k1, k2=k2, r_r=r_r, l_r=l_r, l_p=l_p)\n",
    "    \n",
    "    for i in range(n_generations-1):\n",
    "        cell = cell_generation(cell, timesteps=t_per_generation, initial_array = initial_array, gamma=gamma, rho=rho, eta=eta, \n",
    "                           phi=phi, xi=xi, k1=k1, k2=k2, r_r=r_r, l_r=l_r, l_p=l_p)\n",
    "        \n",
    "    return cell"
   ]
  },
  {
   "cell_type": "code",
   "execution_count": 194,
   "metadata": {},
   "outputs": [],
   "source": [
    "d = 20\n",
    "\n",
    "prot_array = np.zeros((d,d))\n",
    "ribo_array = np.zeros((d,d))\n",
    "aa_array = np.zeros((d,d))\n",
    "\n",
    "\n",
    "for i,initial_aa in enumerate(np.logspace(10,18,d)):\n",
    "    for j,gamma_0 in enumerate(np.linspace(0.01,0.9,d)):\n",
    "        cell_ij = sim_cell_dynamics(n_generations=1,t_per_generation=500, gamma=gamma_0, k1=1e-10, k2=1e-10, \\\n",
    "                          rho=0, initial_array=np.array([10e10,initial_aa,5773,2.11e6,10e18,0]).reshape(1,-1))        \n",
    "        \n",
    "        #print('Gamma = {}, [AA]0= {}.'.format(gamma_0, initial_aa))\n",
    "        #print(cell_ij[-1,2])\n",
    "        prot_array[i,j] = cell_ij[-1,3]\n",
    "        ribo_array[i,j] = cell_ij[-1,2]\n",
    "        \n",
    "        aa_array[i,j] = cell_ij[-1,1]\n",
    "    "
   ]
  },
  {
   "cell_type": "code",
   "execution_count": 195,
   "metadata": {},
   "outputs": [
    {
     "data": {
      "text/plain": [
       "101012978.57917997"
      ]
     },
     "execution_count": 195,
     "metadata": {},
     "output_type": "execute_result"
    }
   ],
   "source": [
    "sim_cell_dynamics(n_generations=1,t_per_generation=500, gamma=0.01, \\\n",
    "                          initial_array=np.array([10e10,10e22,5773,2.11e6,10e18,0]).reshape(1,-1))[-1,2]      \n",
    "#ribo_array"
   ]
  },
  {
   "cell_type": "code",
   "execution_count": 196,
   "metadata": {},
   "outputs": [
    {
     "data": {
      "image/png": "[encoded data removed]",
      "text/plain": [
       "<Figure size 1296x432 with 4 Axes>"
      ]
     },
     "metadata": {},
     "output_type": "display_data"
    }
   ],
   "source": [
    "fig, axes = plt.subplots(1,3, figsize=(18,6))\n",
    "hm_prot = axes[2].pcolor(prot_array, norm=LogNorm(vmin=np.min(prot_array)))\n",
    "hm_ribo = axes[1].pcolor(ribo_array, norm=LogNorm(vmin=np.min(ribo_array)))\n",
    "hm_aa   = axes[0].pcolor(aa_array, norm=LogNorm(vmin=np.min(aa_array)))\n",
    "\n",
    "\n",
    "for ax in axes:\n",
    "    ax.set_xticks(range(d))\n",
    "    ax.set_yticks(range(d))\n",
    "    ax.set_xticklabels(np.round(np.linspace(0,1,d),2), rotation=45)\n",
    "    ax.set_yticklabels(np.round(np.linspace(6,18,d),2))\n",
    "    ax.set_xlabel(r'$\\gamma$')\n",
    "    ax.set_ylabel(r'Initial amino acid concentration [log]')\n",
    "\n",
    "\n",
    "axes[0].set_title('Amino acids')\n",
    "axes[1].set_title('Ribosomes')\n",
    "axes[2].set_title('Proteins')\n",
    "\n",
    "\n",
    "#plt.ylim([0.01,0.1])\n",
    "#plt.xlim([6,18])\n",
    "\n",
    "\n",
    "\n",
    "#cb2 = plt.colorbar(hm_prot,norm=LogNorm(vmin=np.min(prot_array), vmax=np.max(prot_array)))\n",
    "cb1 = plt.colorbar(hm_prot,norm=LogNorm(vmin=np.min(prot_array), vmax=np.max(prot_array)))\n",
    "#cb0 = plt.colorbar(hm_prot,norm=LogNorm(vmin=np.min(prot_array), vmax=np.max(prot_array)))\n",
    "cb1.set_label('Steady concentration')\n",
    "plt.show()"
   ]
  },
  {
   "cell_type": "code",
   "execution_count": 197,
   "metadata": {},
   "outputs": [],
   "source": [
    "#ribo_array"
   ]
  },
  {
   "cell_type": "code",
   "execution_count": 193,
   "metadata": {},
   "outputs": [
    {
     "data": {
      "image/png": "[encoded data removed]",
      "text/plain": [
       "<Figure size 1080x360 with 1 Axes>"
      ]
     },
     "metadata": {},
     "output_type": "display_data"
    }
   ],
   "source": [
    "fig, axes = plt.subplots(1, figsize=(15,5))\n",
    "\n",
    "cell = sim_cell_dynamics(1,500, np.array([10e10,10e18,5773,2.11e6,10e18,0]).reshape(1,-1), gamma=0.9)\n",
    "mrnas = cell[:,0]\n",
    "aas = cell[:,1]\n",
    "ribo = cell[:,2]\n",
    "prot = cell[:,3]\n",
    "atps = cell[:,4]\n",
    "adps = cell[:,5]\n",
    "\n",
    "#axes.plot(mrnas, label='mRNA')\n",
    "axes.plot(aas, label='Amino acids', c='black', linestyle='dotted')\n",
    "axes.plot(ribo, label='Ribosomes', c='orange')\n",
    "axes.plot(prot, label='Proteins', c='red')\n",
    "#axes.plot(atps, label='ATP', c='grey')\n",
    "#axes.plot(adps, label='ADP', c='violet', linestyle='dashed')\n",
    "\n",
    "#plt.xscale('log')\n",
    "axes.set_yscale('log')\n",
    "axes.set_xlabel('Time')\n",
    "axes.set_ylabel('N')\n",
    "axes.set_xlim([0,10])\n",
    "#axes.set_ylim([0,10e20])\n",
    "axes.legend(loc=1)\n",
    "plt.show()"
   ]
  },
  {
   "cell_type": "code",
   "execution_count": 16,
   "metadata": {},
   "outputs": [
    {
     "data": {
      "text/plain": [
       "9002877.43334235"
      ]
     },
     "execution_count": 16,
     "metadata": {},
     "output_type": "execute_result"
    }
   ],
   "source": [
    "sim_cell_dynamics(n_generations=1,t_per_generation=500, gamma=0.9, \\\n",
    "                          initial_array=np.array([10e10,10e18,5773,2.11e6,10e18,0]).reshape(1,-1))[-1,2]"
   ]
  },
  {
   "cell_type": "code",
   "execution_count": null,
   "metadata": {},
   "outputs": [],
   "source": []
  },
  {
   "cell_type": "code",
   "execution_count": 17,
   "metadata": {},
   "outputs": [
    {
     "data": {
      "text/plain": [
       "array([[ 1.00000000e+11,  1.00000000e+09,  5.77300000e+03,\n",
       "         2.11000000e+06,  1.00000000e+19,  0.00000000e+00],\n",
       "       [ 5.00000000e+10,  5.00000000e+08,  2.88650000e+03,\n",
       "         1.05500000e+06,  5.00000000e+18,  0.00000000e+00],\n",
       "       [ 4.99999668e+10,  3.72201991e+07,  2.88648210e+03,\n",
       "         1.52964604e+06,  5.00000000e+18, -1.85111920e+09],\n",
       "       ...,\n",
       "       [ 5.00016071e+10,  3.69697951e+03,  2.87761217e+03,\n",
       "         1.56786230e+06,  5.00000000e+18, -1.99998521e+09],\n",
       "       [ 5.00016104e+10,  3.69700245e+03,  2.87759431e+03,\n",
       "         1.56786239e+06,  5.00000000e+18, -1.99998521e+09],\n",
       "       [ 5.00016137e+10,  3.69702539e+03,  2.87757646e+03,\n",
       "         1.56786248e+06,  5.00000000e+18, -1.99998521e+09]])"
      ]
     },
     "execution_count": 17,
     "metadata": {},
     "output_type": "execute_result"
    }
   ],
   "source": [
    "sim_cell_dynamics(n_generations=1,t_per_generation=500, gamma=0.1, \\\n",
    "                          initial_array=np.array([10e10,10e8,5773,2.11e6,10e18,0]).reshape(1,-1))"
   ]
  },
  {
   "cell_type": "code",
   "execution_count": 18,
   "metadata": {
    "collapsed": true
   },
   "outputs": [
    {
     "data": {
      "text/plain": [
       "functools.partial(<function dN_dt at 0x10ba06f28>, gamma=0.0138172, rho=0.2, eta=6.205e-06, phi=6.205e-06, xi=6.205e-06, k1=1e-11, k2=0.01, r_r=0.1, l_r=5000, l_p=975)"
      ]
     },
     "execution_count": 18,
     "metadata": {},
     "output_type": "execute_result"
    }
   ],
   "source": [
    "partial(dN_dt,gamma = 0.0138172,\n",
    "                                        rho = 0.2,\n",
    "                                        eta = 6.205e-6,\n",
    "                                        phi = 6.205e-6,\n",
    "                                        xi = 6.205e-6,\n",
    "                                        k1=10e-12,\n",
    "                                        k2=10e-3,\n",
    "                                        r_r = 1e-1,\n",
    "                                        l_r = 5000,\n",
    "                                        l_p = 975)"
   ]
  },
  {
   "cell_type": "code",
   "execution_count": 19,
   "metadata": {},
   "outputs": [
    {
     "data": {
      "text/plain": [
       "array([[5.0000e+10, 5.0000e+18, 2.8865e+03, 1.0550e+06, 5.0000e+18,\n",
       "        0.0000e+00]])"
      ]
     },
     "execution_count": 19,
     "metadata": {},
     "output_type": "execute_result"
    }
   ],
   "source": [
    "initial_array=np.array([10e10,10e18,5773,2.11e6,10e18,0]).reshape(1,-1)\n",
    "initial_mrna = initial_array[-1,0]/2\n",
    "initial_aa = initial_array[-1,1]/2\n",
    "initial_ribosomes = initial_array[-1,2]/2\n",
    "initial_proteins = initial_array[-1,3]/2\n",
    "initial_atp = initial_array[-1,4]/2\n",
    "initial_adp = initial_array[-1,5]/2\n",
    "\n",
    "odeint(partial(dN_dt,gamma = 0.0138172,\n",
    "                                        rho = 0.2,\n",
    "                                        eta = 6.205e-6,\n",
    "                                        phi = 6.205e-6,\n",
    "                                        xi = 6.205e-6,\n",
    "                                        k1=10e-12,\n",
    "                                        k2=10e-3,\n",
    "                                        r_r = 1e-1,\n",
    "                                        l_r = 5000,\n",
    "                                        l_p = 975), \n",
    "                                           [initial_mrna, \n",
    "                                           initial_aa,\n",
    "                                           initial_ribosomes,\n",
    "                                           initial_proteins,\n",
    "                                           initial_atp,\n",
    "                                           initial_adp],t=0)"
   ]
  },
  {
   "cell_type": "code",
   "execution_count": 161,
   "metadata": {},
   "outputs": [
    {
     "data": {
      "text/plain": [
       "[<matplotlib.lines.Line2D at 0x1a18dc78d0>,\n",
       " <matplotlib.lines.Line2D at 0x1a18dc7ac8>,\n",
       " <matplotlib.lines.Line2D at 0x1a18dc7c50>]"
      ]
     },
     "execution_count": 161,
     "metadata": {},
     "output_type": "execute_result"
    },
    {
     "data": {
      "image/png": "[encoded data removed]",
      "text/plain": [
       "<Figure size 432x288 with 1 Axes>"
      ]
     },
     "metadata": {},
     "output_type": "display_data"
    }
   ],
   "source": [
    "def dX_dt(X, t=0, a=0.5, b=0.2, c=0.5, d=0.8):\n",
    "#     a = 0.5\n",
    "#     b = 0.2\n",
    "#     c = 0.5\n",
    "#     d = 0.8\n",
    "    \n",
    "    return np.array([\n",
    "        1, #dt/dt = dX[0]/dt 1\n",
    "        np.cos(X[0]), #dX/dt = dX[1]/d\n",
    "        np.cos(X[0])\n",
    "    ])\n",
    "\n",
    "plt.plot(np.linspace(0,40,100),odeint(dX_dt, [0,0,0], t=np.linspace(0,40,100)))"
   ]
  },
  {
   "cell_type": "code",
   "execution_count": 231,
   "metadata": {},
   "outputs": [],
   "source": [
    "timeseries = odeint(dX_dt, [0,0,0], t=np.linspace(0,1e3,100))\n",
    "\n",
    "seriesa = timeseries[:,1]\n",
    "seriesb = timeseries[:,2]"
   ]
  },
  {
   "cell_type": "code",
   "execution_count": 232,
   "metadata": {},
   "outputs": [
    {
     "data": {
      "text/plain": [
       "array([ 0.        , -0.62585846,  0.97626045, -0.89698247,  0.4229193 ,\n",
       "        0.23728332, -0.79305007,  0.9997748 , -0.76647062,  0.19582272,\n",
       "        0.46101301, -0.91494334,  0.96618325, -0.59217848, -0.04245878,\n",
       "        0.65841056, -0.98457604,  0.8774044 , -0.38406197, -0.27831539,\n",
       "        0.81819966, -0.99797109,  0.73850912, -0.15400831, -0.49827475,\n",
       "        0.93125474, -0.95436271,  0.55743136,  0.08484241, -0.68977304,\n",
       "        0.99111753, -0.85624252,  0.34451356,  0.31884655, -0.84187252,\n",
       "        0.99436868, -0.70921463,  0.1119176 ,  0.53463915, -0.94588487,\n",
       "        0.9408227 , -0.52167702, -0.12707089,  0.71989363, -0.99586926,\n",
       "        0.8335382 , -0.30434174, -0.35880124,  0.86402854, -0.98897096,\n",
       "        0.6786426 , -0.06962311, -0.57003742,  0.95881102, -0.92558365,\n",
       "        0.48498387,  0.1690724 , -0.74871363,  0.99882729, -0.80932827,\n",
       "        0.26362328,  0.3981106 , -0.88462424,  0.98179157, -0.64684484,\n",
       "        0.02720497,  0.6044095 , -0.97000585,  0.90867735, -0.44741386,\n",
       "       -0.21076682,  0.77618547, -0.99998155,  0.78366075, -0.22242727,\n",
       "       -0.43670024,  0.9036264 , -0.97283977,  0.61388172,  0.0152638 ,\n",
       "       -0.63768995,  0.97945277, -0.89013047,  0.40903889,  0.25208329,\n",
       "       -0.80225526,  0.99933424, -0.75657786,  0.18083204,  0.47450406,\n",
       "       -0.92099675,  0.96213498, -0.57981   , -0.05770336,  0.66982188,\n",
       "       -0.98713158,  0.86997973, -0.36992437, -0.29294303,  0.82688012])"
      ]
     },
     "execution_count": 232,
     "metadata": {},
     "output_type": "execute_result"
    }
   ],
   "source": [
    "seriesa"
   ]
  },
  {
   "cell_type": "code",
   "execution_count": 249,
   "metadata": {},
   "outputs": [],
   "source": [
    "n=10000\n",
    "histoa, binsa = np.histogram(seriesa, normed=True, bins=n)\n",
    "histob, binsb = np.histogram(seriesb, normed=True, bins=n)\n",
    "histoab, binsmarga, binsmargb = np.histogram2d(seriesa,seriesb, normed=True, bins=n)\n",
    "# integrala = 0\n",
    "# for i in range(len(histoa)):\n",
    "#     integrala = integrala + (binsa[i+1]-binsa[i])*histoa[i]\n",
    "# print(integrala)"
   ]
  },
  {
   "cell_type": "code",
   "execution_count": 250,
   "metadata": {},
   "outputs": [],
   "source": [
    "mutualinfo = 0\n",
    "\n",
    "for i in range(len(histoa)):\n",
    "    px = (binsa[i+1]-binsa[i])*histoa[i]\n",
    "    for j in range(len(histob)):\n",
    "        py = (binsb[j+1]-binsb[j])*histob[j]\n",
    "        \n",
    "        pxy = (binsa[i+1]-binsa[i])*(binsb[j+1]-binsb[j])* \\\n",
    "            histoab[i,j]\n",
    "\n",
    "            mutualinfo += pxy * log(pxy/px/py,2)\n",
    "        \n",
    "        "
   ]
  },
  {
   "cell_type": "code",
   "execution_count": 251,
   "metadata": {},
   "outputs": [
    {
     "data": {
      "text/plain": [
       "6.643856189774715"
      ]
     },
     "execution_count": 251,
     "metadata": {},
     "output_type": "execute_result"
    }
   ],
   "source": [
    "mutualinfo"
   ]
  },
  {
   "cell_type": "code",
   "execution_count": null,
   "metadata": {},
   "outputs": [],
   "source": [
    "for x in seriesa:\n",
    "    for y in seriesb:\n",
    "        "
   ]
  },
  {
   "cell_type": "code",
   "execution_count": 326,
   "metadata": {},
   "outputs": [],
   "source": [
    "def dN_dt(X, t=0,\n",
    "        gamma = 0.0138172,\n",
    "        rho = 0.2,\n",
    "        eta = 6.205e-6,\n",
    "        phi = 6.205e-6,\n",
    "        xi = 6.205e-6,\n",
    "        k1=10e-12,\n",
    "        k2=10e-3,\n",
    "        r_r = 1e-1,\n",
    "        l_r = 5000,\n",
    "        l_p = 975):\n",
    "    \n",
    "    M = X[0] #X[0] = [mRNA](t)\n",
    "    AA = X[1] #X[1] = [aminoacids](t)\n",
    "    R = X[2] #X[2] = [ribosomes](t)\n",
    "    P = X[3] #X[3] = [proteins](t)\n",
    "    ATP = X[4] #X[4] = [ATP](t)\n",
    "    ADP = X[5] #X[5] = [ADP](t)\n",
    "\n",
    "    dM_dt = rho*P - xi*M\n",
    "    dR_dt = gamma*AA*R*k1*r_r/l_r - eta*R\n",
    "    dP_dt = (1-gamma)*AA*R*k2*r_r/(l_p) - phi*P\n",
    "    dAA_dt = -1*l_p*dP_dt - l_r*dR_dt\n",
    "    dATP_dt = -dAA_dt*4\n",
    "    dADP_dt =  -dATP_dt\n",
    "    \n",
    "    \n",
    "    return np.array([\n",
    "        dM_dt,\n",
    "        dAA_dt,\n",
    "        dR_dt,\n",
    "        dP_dt,\n",
    "        dATP_dt,\n",
    "        dADP_dt\n",
    "        \n",
    "    ])\n",
    "\n",
    "#odeint(partial(dN_dt, gamma=0.2), [10e10,10e18,5773,2.11e6,10e18,0], np.linspace(0,50))[-1,:]"
   ]
  },
  {
   "cell_type": "code",
   "execution_count": null,
   "metadata": {},
   "outputs": [],
   "source": []
  }
 ],
 "metadata": {
  "kernelspec": {
   "display_name": "Python 3",
   "language": "python",
   "name": "python3"
  },
  "language_info": {
   "codemirror_mode": {
    "name": "ipython",
    "version": 3
   },
   "file_extension": ".py",
   "mimetype": "text/x-python",
   "name": "python",
   "nbconvert_exporter": "python",
   "pygments_lexer": "ipython3",
   "version": "3.6.5"
  }
 },
 "nbformat": 4,
 "nbformat_minor": 2
}
