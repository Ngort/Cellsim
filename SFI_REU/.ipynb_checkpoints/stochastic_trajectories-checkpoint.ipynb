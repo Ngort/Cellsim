{
 "cells": [
  {
   "cell_type": "code",
   "execution_count": 1,
   "metadata": {
    "collapsed": true
   },
   "outputs": [],
   "source": [
    "import numpy as np\n",
    "import matplotlib.pyplot as plt\n",
    "from scipy.integrate import odeint\n",
    "\n",
    "from matplotlib.ticker import FuncFormatter"
   ]
  },
  {
   "cell_type": "code",
   "execution_count": 2,
   "metadata": {
    "collapsed": true
   },
   "outputs": [],
   "source": [
    "gamma = 0.0138172\n",
    " \n",
    "eta0 = 6.205e-6\n",
    "phi0 = 6.205e-6\n",
    "\n",
    "r_R = 63\n",
    "r_P = 63\n",
    "l_R = 5000\n",
    "l_P = 975\n",
    "\n",
    "T = 10000\n",
    "\n",
    "R_t = []\n",
    "P_t = []\n",
    "\n",
    "h = 0.01\n",
    "\n",
    "R_0, P_0 = 5773,2.11e6"
   ]
  },
  {
   "cell_type": "code",
   "execution_count": 3,
   "metadata": {},
   "outputs": [],
   "source": [
    "n_ribo_volume = lambda volume : (7.280245377599019e21*(1 + 1.3322199014570686e-12/\n",
    "     volume**0.6454883435592754)*volume**0.6971221467560254)/(-5000*(1 +\n",
    " 1.3322199014570686e-12/volume**0.6454883435592754) + \n",
    "   1.3525663798553437e-6/volume**0.6454883435592754)\n",
    "\n",
    "n_prot_volume = lambda volume : 7.466918335998994e18*(volume**0.6971221467560254)\n",
    "\n",
    "div_time_volume = lambda volume : 1.4881390043125451e-8/volume**0.6454883435592754\n",
    "\n",
    "def trajectories(V=1e-18, T=100000, n_traj=200):\n",
    "     R_t = np.zeros((T, n_traj))\n",
    "     P_t = np.zeros((T, n_traj))\n",
    " \n",
    "     R_0 = n_ribo_volume(V)\n",
    "     P_0 = n_prot_volume(V)\n",
    " \n",
    "     R_0 = np.random.normal(R_0, 20, n_traj)\n",
    "     P_0 = np.random.normal(P_0, 2e4, n_traj)\n",
    " \n",
    "     for t in range(T): \n",
    "         eta = np.random.normal(eta0, 1e-2, n_traj)\n",
    "         phi = np.random.normal(phi0, 1e-2, n_traj)\n",
    " \n",
    "         R = (gamma*r_R*h/l_R - eta*h + 1)*R_0\n",
    "         P = ((1-gamma)*r_P*h/l_P)*R_0 + (1-phi*h)*P_0\n",
    " \n",
    "         R_t[t] = R\n",
    "         P_t[t] = P\n",
    " \n",
    "         R_0 = R\n",
    "         P_0 = P\n",
    " \n",
    "     return np.dstack((R_t, P_t))\n",
    "\n",
    "\n"
   ]
  },
  {
   "cell_type": "code",
   "execution_count": null,
   "metadata": {},
   "outputs": [],
   "source": [
    "traj = trajectories(T=618600)\n",
    "traj_avg = traj.mean(1)\n",
    " \n",
    "fig, axes = plt.subplots(2, figsize=(20,15))\n",
    "\n",
    "for line in traj.transpose(1,2,0):\n",
    "    axes[0].plot(line[0], linewidth=0.1, c='b', alpha=0.3)\n",
    "    axes[1].plot(line[1], linewidth=0.1, c='b', alpha=0.3)\n",
    "\n",
    "axes[0].plot(traj_avg.T[0], linewidth=1, c='orange')\n",
    "axes[0].set_ylabel('Number of ribosomes', fontsize=32)\n",
    "axes[1].plot(traj_avg.T[1], linewidth=5, c='orange')\n",
    "axes[1].set_ylabel('Number of proteins', fontsize=32)\n",
    "\n",
    "axes[0].tick_params(axis = 'both', which = 'major', labelsize = 18)\n",
    "axes[1].tick_params(axis = 'both', which = 'major', labelsize = 18)\n",
    "\n",
    "for ax in axes.ravel():\n",
    "    ax.get_xaxis().set_major_formatter(FuncFormatter(lambda x, p: format(int(x), ',')))\n",
    "    ax.get_yaxis().set_major_formatter(FuncFormatter(lambda x, p: format(int(x), ',')))\n",
    "\n",
    "\n",
    "\n",
    "#plt.yscale('log')\n",
    "plt.tight_layout()\n",
    "plt.show()"
   ]
  },
  {
   "cell_type": "code",
   "execution_count": 2,
   "metadata": {},
   "outputs": [
    {
     "data": {
      "text/plain": [
       "3"
      ]
     },
     "execution_count": 2,
     "metadata": {},
     "output_type": "execute_result"
    }
   ],
   "source": [
    "3"
   ]
  },
  {
   "cell_type": "code",
   "execution_count": null,
   "metadata": {},
   "outputs": [],
   "source": []
  },
  {
   "cell_type": "code",
   "execution_count": null,
   "metadata": {},
   "outputs": [],
   "source": []
  }
 ],
 "metadata": {
  "kernelspec": {
   "display_name": "Python 3",
   "language": "python",
   "name": "python3"
  },
  "language_info": {
   "codemirror_mode": {
    "name": "ipython",
    "version": 3
   },
   "file_extension": ".py",
   "mimetype": "text/x-python",
   "name": "python",
   "nbconvert_exporter": "python",
   "pygments_lexer": "ipython3",
   "version": "3.6.5"
  }
 },
 "nbformat": 4,
 "nbformat_minor": 2
}
