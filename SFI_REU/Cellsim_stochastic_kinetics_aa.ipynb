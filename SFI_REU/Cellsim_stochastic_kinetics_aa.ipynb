{
 "cells": [
  {
   "cell_type": "code",
   "execution_count": 1,
   "metadata": {},
   "outputs": [],
   "source": [
    "\n",
    "import scipy.stats\n",
    "import numpy as np\n",
    "import matplotlib.pyplot as plt\n",
    "import matplotlib.cm as cm\n",
    "import pandas as pd\n",
    "import joypy as jp\n",
    "import sympy as sym\n",
    "from time import time\n",
    "#sym.init_printing()\n",
    "\n",
    "#from pysde import *\n",
    "from functools import partial\n",
    "from math import log\n",
    "from matplotlib.colors import LogNorm\n",
    "from scipy.integrate import odeint\n",
    "from scipy.stats import entropy\n",
    "from sklearn.metrics import mutual_info_score\n",
    "from mpl_toolkits.mplot3d import Axes3D\n",
    "\n",
    "from collections import Counter\n",
    "\n",
    "\n",
    "import seaborn as sns\n",
    "sns.set_style('ticks')"
   ]
  },
  {
   "cell_type": "code",
   "execution_count": 2,
   "metadata": {},
   "outputs": [],
   "source": [
    "\n",
    "gamma = 0.0138172\n",
    "\n",
    "ribo_decay = 6.205e-6\n",
    "prot_decay = 6.205e-6\n",
    "\n",
    "r_R = 63\n",
    "r_P = 63\n",
    "l_R = 5000\n",
    "l_P = 975\n",
    "\n",
    "LHS = np.array([[l_R, l_P, 0,  0],\n",
    "                [1,   1,   1,  0],\n",
    "                [0,   0,   0,  1]])\n",
    "\n",
    "LHS_rates = np.array([[1,   1, 0,  0],\n",
    "                      [1,   1,   1,  0],\n",
    "                      [0,   0,   0,  1]])\n",
    "\n",
    "RHS = np.array([[0, 0, l_R, l_P],\n",
    "                [2, 1, 0,   0],\n",
    "                [0, 1, 0,   0]])\n",
    "\n",
    "S = RHS - LHS\n",
    "\n",
    "    "
   ]
  },
  {
   "cell_type": "code",
   "execution_count": 3,
   "metadata": {},
   "outputs": [],
   "source": [
    "def reaction_rates(volume, X, mu_ribo_synth= gamma*r_R/l_R, mu_prot_synth= (1-gamma)*r_P/l_P, mu_ribo_decay= ribo_decay, mu_prot_decay= prot_decay):\n",
    "    \n",
    "    mu_vector = np.array([mu_ribo_synth, mu_prot_synth, mu_ribo_decay, mu_prot_decay])\n",
    "    scaled_rates = np.power(X.repeat(LHS.shape[1],1)/volume,LHS_rates).prod(axis=0)\n",
    "    #log_scaled_rates = (((np.log(X).repeat(LHS.shape[1],1)-np.log(volume)) * LHS).sum(axis=0)\n",
    "    #scaled_rates = np.exp(log_scaled_rates)\n",
    "    \n",
    "    return mu_vector * scaled_rates * volume\n",
    "\n"
   ]
  },
  {
   "cell_type": "code",
   "execution_count": 4,
   "metadata": {},
   "outputs": [],
   "source": [
    "def dZ_dt(state, t=0, volume=1e-18):\n",
    "    \n",
    "    Z = state.reshape(2*LHS.shape[0]+1, LHS.shape[0])\n",
    "    phi = np.atleast_2d(Z[0]).T\n",
    "\n",
    "    F = reaction_rates(volume=volume, X=phi)\n",
    "    \n",
    "    E = S @ np.sqrt(np.diag(F))\n",
    "    J = ( (1/phi @ np.atleast_2d(F) ) * LHS_rates).T\n",
    "    A = S @ J\n",
    "    \n",
    "    V = Z[1:A.shape[0]+1]\n",
    "    G = Z[A.shape[0]+1:]\n",
    "    \n",
    "    phidot = S @ F\n",
    "    Vdot = A @ V + V @ A.T + E @ E.T\n",
    "    \n",
    "    Gdot = A @ G\n",
    "    \n",
    "    ode_list = np.vstack((phidot, Vdot, Gdot)).reshape(-1)\n",
    "    \n",
    "    return ode_list\n"
   ]
  },
  {
   "cell_type": "code",
   "execution_count": null,
   "metadata": {},
   "outputs": [],
   "source": []
  },
  {
   "cell_type": "code",
   "execution_count": 28,
   "metadata": {},
   "outputs": [],
   "source": [
    "class Trajectory:\n",
    "    \n",
    "    def get_init_counts(self, volume):\n",
    "        if True:\n",
    "            n_ribo = (7.280245377599019e21*(1 + 1.3322199014570686e-12/\n",
    "                volume**0.6454883435592754)*volume**0.6971221467560254)/(-5000*(1 +\n",
    "                 1.3322199014570686e-12/volume**0.6454883435592754) + \n",
    "              1.3525663798553437e-6/volume**0.6454883435592754)\n",
    "\n",
    "            n_prot = 7.466918335998994e18*(volume**0.6971221467560254)\n",
    "            \n",
    "            n_aa = 2 * (n_ribo + n_prot)\n",
    "            \n",
    "        else:\n",
    "            n_aa, n_ribo, n_prot = 1e5 * volume, 1e5* volume, 1e5 * volume\n",
    "\n",
    "        return n_aa, n_ribo, n_prot\n",
    "\n",
    "    def get_div_time(self, volume):\n",
    "        if False:\n",
    "            return 1.4881390043125451e-8/volume**0.6454883435592754\n",
    "        else:\n",
    "            return 10000000.\n",
    "\n",
    "    def __init__(self, volume=1e-18, iterations=100000):\n",
    "        self.volume = volume\n",
    "        self.iterations = iterations\n",
    "        \n",
    "        init_counts = np.array(self.get_init_counts(volume))\n",
    "        global_init = np.vstack([init_counts.reshape(1,-1), np.identity(len(init_counts)), np.identity(len(init_counts))])\n",
    "\n",
    "        T = np.linspace(0,self.get_div_time(volume),iterations)\n",
    "\n",
    "        solved_odes = odeint(dZ_dt, y0=global_init.reshape(-1), t=T, args=(volume,)).reshape(-1,2*LHS.shape[0]+1, LHS.shape[0])\n",
    "\n",
    "        n_species = len(init_counts)\n",
    "        self.X_t = solved_odes[:,0,:]\n",
    "        self.V_t = solved_odes[:,1:n_species+1,:]\n",
    "        self.G_t = solved_odes[:,n_species+1:,:]\n",
    "        self.cov_t = self.V_t[0] @ self.G_t.transpose(0,2,1)\n",
    "\n",
    "        self.var_ribo = self.V_t[:,1,1]\n",
    "        self.var_prot = self.V_t[:,2,2]\n",
    "        self.cov_riboprot = self.V_t[:,1,2]\n",
    "\n",
    "        self.cov_ribo_over_time = self.cov_t[:,1,1]\n",
    "        self.cov_prot_over_time = self.cov_t[:,2,2]\n",
    "        self.cov_riboprot_over_time = self.cov_t[:,1,2]\n",
    "\n",
    "        self.rho_ribo = np.array([self.cov_ribo_over_time[t]/(np.sqrt(self.var_ribo[0])*np.sqrt(self.var_ribo[t])) for t in range(0,iterations)])\n",
    "        self.rho_prot = np.array([self.cov_prot_over_time[t]/(np.sqrt(self.var_prot[0])*np.sqrt(self.var_prot[t])) for t in range(0,iterations)])\n",
    "\n",
    "        self.mi_ribo = -0.5*np.log(1-self.rho_ribo**2)# if rho**2 != 1 else np.inf\n",
    "        self.mi_prot = -0.5*np.log(1-self.rho_prot**2)\n",
    "        \n",
    "        \n",
    "    def contour(self, fractions=20):\n",
    "        index_correction = np.zeros(fractions)\n",
    "        index_correction[-1] = -1\n",
    "        indices = (np.linspace(0,1,fractions) * self.iterations + index_correction).astype('int')\n",
    "\n",
    "        plt.subplots(1, figsize=(10,10))\n",
    "\n",
    "        x_contour = np.linspace(np.min(self.X_t[:,0])*0.9,np.max(self.X_t[:,0])*1.1,100)\n",
    "        y_contour = np.linspace(np.min(self.X_t[:,1])*0.9,np.max(self.X_t[:,1])*1.1,100)\n",
    "        x_contour, y_contour = np.meshgrid(x_contour, y_contour)\n",
    "        points_contour = np.stack((x_contour, y_contour), axis=-1)\n",
    "\n",
    "\n",
    "        z_contours = [scipy.stats.multivariate_normal(mean=self.X_t[i], cov=self.V_t[i]).pdf(points_contour) for i in indices] \n",
    "\n",
    "\n",
    "        for i,z in enumerate(z_contours):\n",
    "            plt.contour(x_contour, y_contour, z)\n",
    "            plt.annotate('t= {}'.format(\"{:.2}\".format(self.get_div_time(self.volume)*indices[i]/1e6) ),self.X_t[indices[i]]*np.array([0.95,1.1]), size=8)\n",
    "\n",
    "        plt.xlabel('Number of ribosomes')\n",
    "        plt.ylabel('Number of proteins')\n",
    "\n",
    "#        plt.show()\n",
    "\n",
    "\n",
    "\n",
    "        \n"
   ]
  },
  {
   "cell_type": "code",
   "execution_count": 30,
   "metadata": {},
   "outputs": [
    {
     "name": "stderr",
     "output_type": "stream",
     "text": [
      "/Users/nico/anaconda3/lib/python3.6/site-packages/ipykernel_launcher.py:8: RuntimeWarning: invalid value encountered in sqrt\n",
      "  \n",
      "/Users/nico/anaconda3/lib/python3.6/site-packages/ipykernel_launcher.py:53: RuntimeWarning: divide by zero encountered in log\n",
      "/Users/nico/anaconda3/lib/python3.6/site-packages/ipykernel_launcher.py:54: RuntimeWarning: divide by zero encountered in log\n"
     ]
    },
    {
     "name": "stdout",
     "output_type": "stream",
     "text": [
      "[5773.5242935          nan          nan ...          nan          nan\n",
      "          nan]\n",
      "[4237968.04904502              nan              nan ...              nan\n",
      "              nan              nan]\n"
     ]
    },
    {
     "data": {
      "image/png": "[encoded data removed]",
      "text/plain": [
       "<Figure size 432x288 with 1 Axes>"
      ]
     },
     "metadata": {},
     "output_type": "display_data"
    },
    {
     "data": {
      "image/png": "[encoded data removed]",
      "text/plain": [
       "<Figure size 432x288 with 1 Axes>"
      ]
     },
     "metadata": {},
     "output_type": "display_data"
    },
    {
     "data": {
      "image/png": "[encoded data removed]",
      "text/plain": [
       "<Figure size 432x288 with 1 Axes>"
      ]
     },
     "metadata": {},
     "output_type": "display_data"
    }
   ],
   "source": [
    "traj = Trajectory(1e-18)\n",
    "print(traj.X_t[:,1])\n",
    "for i in range(3):\n",
    "    plt.figure()\n",
    "    plt.plot(traj.X_t[:10,i])\n",
    "    plt.yscale('log')\n",
    "\n",
    "print(traj.X_t[:,0])\n",
    "#plt.show()\n",
    "#Trajectory(volume=1e-30).X_t"
   ]
  },
  {
   "cell_type": "code",
   "execution_count": 7,
   "metadata": {},
   "outputs": [
    {
     "name": "stdout",
     "output_type": "stream",
     "text": [
      "(100000, 3, 3)\n"
     ]
    },
    {
     "data": {
      "text/plain": [
       "10000000.0"
      ]
     },
     "execution_count": 7,
     "metadata": {},
     "output_type": "execute_result"
    }
   ],
   "source": [
    "print(traj.V_t.shape)\n",
    "\n",
    "traj.get_div_time(traj.volume)\n",
    "# plt.figure()\n",
    "# plt.plot(traj.X_t[:,0])\n",
    "\n",
    "# plt.figure()\n",
    "# plt.plot(traj.cov_riboprot[:])\n",
    "\n",
    "# plt.figure()\n",
    "# plt.plot(traj.rho_ribo[:])\n",
    "\n",
    "# #print(traj.rho_ribo[90000:])\n",
    "# plt.figure()\n",
    "# plt.plot(-0.5*np.log(1-traj.rho_ribo**2))\n"
   ]
  },
  {
   "cell_type": "code",
   "execution_count": 8,
   "metadata": {},
   "outputs": [
    {
     "name": "stderr",
     "output_type": "stream",
     "text": [
      "/Users/nico/anaconda3/lib/python3.6/site-packages/ipykernel_launcher.py:53: RuntimeWarning: divide by zero encountered in log\n",
      "/Users/nico/anaconda3/lib/python3.6/site-packages/ipykernel_launcher.py:53: RuntimeWarning: invalid value encountered in log\n",
      "/Users/nico/anaconda3/lib/python3.6/site-packages/ipykernel_launcher.py:54: RuntimeWarning: divide by zero encountered in log\n"
     ]
    }
   ],
   "source": [
    "trajectories_by_volume = [Trajectory(volume=v) for v in np.logspace(-25,-15,10)]"
   ]
  },
  {
   "cell_type": "code",
   "execution_count": 9,
   "metadata": {},
   "outputs": [
    {
     "data": {
      "image/png": "[encoded data removed]",
      "text/plain": [
       "<Figure size 432x288 with 1 Axes>"
      ]
     },
     "metadata": {},
     "output_type": "display_data"
    }
   ],
   "source": [
    "for i,traj in enumerate(trajectories_by_volume):\n",
    "    plt.plot(traj.mi_prot, label=traj.volume)\n",
    "    #plt.plot(np.sqrt(traj.V_t[:,0,0])/traj.volume, label=traj.volume)\n",
    "    #plt.plot(traj.X_t[:,1]/traj.volume, label=traj.volume)\n",
    "    #break\n",
    "#plt.xlim([10000,plt.xlim()[1]])\n",
    "plt.yscale('log')\n",
    "plt.ylabel('Mutual information between initial and final state')\n",
    "plt.xlabel(r'Ratio to division time $\\times$ 100000')\n",
    "plt.legend(bbox_to_anchor=(1.05, 1), loc=2, borderaxespad=0.)\n",
    "plt.show()"
   ]
  },
  {
   "cell_type": "code",
   "execution_count": 10,
   "metadata": {},
   "outputs": [
    {
     "data": {
      "image/png": "[encoded data removed]",
      "text/plain": [
       "<Figure size 432x288 with 1 Axes>"
      ]
     },
     "metadata": {},
     "output_type": "display_data"
    }
   ],
   "source": [
    "for traj in trajectories_by_volume:\n",
    "    plt.plot(traj.mi_ribo, label=traj.volume)\n",
    "    plt.yscale('log')\n",
    "    plt.legend()\n",
    "plt.show()"
   ]
  },
  {
   "cell_type": "code",
   "execution_count": 11,
   "metadata": {},
   "outputs": [
    {
     "ename": "NameError",
     "evalue": "name 'testres' is not defined",
     "output_type": "error",
     "traceback": [
      "\u001b[0;31m---------------------------------------------------------------------------\u001b[0m",
      "\u001b[0;31mNameError\u001b[0m                                 Traceback (most recent call last)",
      "\u001b[0;32m<ipython-input-11-73cd728992c5>\u001b[0m in \u001b[0;36m<module>\u001b[0;34m()\u001b[0m\n\u001b[0;32m----> 1\u001b[0;31m \u001b[0mX_t\u001b[0m \u001b[0;34m=\u001b[0m \u001b[0mtestres\u001b[0m\u001b[0;34m[\u001b[0m\u001b[0;34m:\u001b[0m\u001b[0;34m,\u001b[0m\u001b[0;36m0\u001b[0m\u001b[0;34m,\u001b[0m\u001b[0;34m:\u001b[0m\u001b[0;34m]\u001b[0m\u001b[0;34m\u001b[0m\u001b[0m\n\u001b[0m\u001b[1;32m      2\u001b[0m \u001b[0mV_t\u001b[0m \u001b[0;34m=\u001b[0m \u001b[0mtestres\u001b[0m\u001b[0;34m[\u001b[0m\u001b[0;34m:\u001b[0m\u001b[0;34m,\u001b[0m\u001b[0;36m1\u001b[0m\u001b[0;34m:\u001b[0m\u001b[0mA\u001b[0m\u001b[0;34m.\u001b[0m\u001b[0mshape\u001b[0m\u001b[0;34m[\u001b[0m\u001b[0;36m0\u001b[0m\u001b[0;34m]\u001b[0m\u001b[0;34m+\u001b[0m\u001b[0;36m1\u001b[0m\u001b[0;34m,\u001b[0m\u001b[0;34m:\u001b[0m\u001b[0;34m]\u001b[0m\u001b[0;34m\u001b[0m\u001b[0m\n\u001b[1;32m      3\u001b[0m \u001b[0mG_t\u001b[0m \u001b[0;34m=\u001b[0m \u001b[0mtestres\u001b[0m\u001b[0;34m[\u001b[0m\u001b[0;34m:\u001b[0m\u001b[0;34m,\u001b[0m\u001b[0mA\u001b[0m\u001b[0;34m.\u001b[0m\u001b[0mshape\u001b[0m\u001b[0;34m[\u001b[0m\u001b[0;36m0\u001b[0m\u001b[0;34m]\u001b[0m\u001b[0;34m+\u001b[0m\u001b[0;36m1\u001b[0m\u001b[0;34m:\u001b[0m\u001b[0;34m,\u001b[0m\u001b[0;34m:\u001b[0m\u001b[0;34m]\u001b[0m\u001b[0;34m\u001b[0m\u001b[0m\n\u001b[1;32m      4\u001b[0m \u001b[0mcov_t\u001b[0m \u001b[0;34m=\u001b[0m \u001b[0mV_t\u001b[0m\u001b[0;34m[\u001b[0m\u001b[0;36m0\u001b[0m\u001b[0;34m]\u001b[0m \u001b[0;34m@\u001b[0m \u001b[0mG_t\u001b[0m\u001b[0;34m.\u001b[0m\u001b[0mtranspose\u001b[0m\u001b[0;34m(\u001b[0m\u001b[0;36m0\u001b[0m\u001b[0;34m,\u001b[0m\u001b[0;36m2\u001b[0m\u001b[0;34m,\u001b[0m\u001b[0;36m1\u001b[0m\u001b[0;34m)\u001b[0m\u001b[0;34m\u001b[0m\u001b[0m\n",
      "\u001b[0;31mNameError\u001b[0m: name 'testres' is not defined"
     ]
    }
   ],
   "source": [
    "X_t = testres[:,0,:]\n",
    "V_t = testres[:,1:A.shape[0]+1,:]\n",
    "G_t = testres[:,A.shape[0]+1:,:]\n",
    "cov_t = V_t[0] @ G_t.transpose(0,2,1)"
   ]
  },
  {
   "cell_type": "code",
   "execution_count": null,
   "metadata": {},
   "outputs": [],
   "source": [
    "Trajectory(10e-20).contour()"
   ]
  },
  {
   "cell_type": "code",
   "execution_count": null,
   "metadata": {},
   "outputs": [],
   "source": [
    "var_ribo = V_t[:,0,0]\n",
    "var_prot = V_t[:,1,1]\n",
    "cov_riboprot = V_t[:,0,1]"
   ]
  },
  {
   "cell_type": "code",
   "execution_count": null,
   "metadata": {},
   "outputs": [],
   "source": [
    "cov_ribo_over_time = cov_t[:,0,0]\n",
    "cov_prot_over_time = cov_t[:,1,1]\n",
    "cov_riboprot_over_time = cov_t[:,0,1]\n"
   ]
  },
  {
   "cell_type": "code",
   "execution_count": null,
   "metadata": {},
   "outputs": [],
   "source": [
    "rho_ribo_t = np.vectorize(lambda  t : cov_ribo_over_time[t]/(np.sqrt(var_ribo[0])*np.sqrt(var_ribo[t])))\n",
    "rho_prot_t = np.vectorize(lambda  t : cov_prot_over_time[int(t)]/(np.sqrt(var_prot[0])*np.sqrt(var_prot[int(t)])))\n",
    "\n",
    "\n",
    "def mutual_info(t, species): \n",
    "    \n",
    "        if species=='ribo':\n",
    "            rho = cov_ribo_over_time[t]/(np.sqrt(var_ribo[0])*np.sqrt(var_ribo[t])) \n",
    "        elif species=='prot':\n",
    "            rho = cov_prot_over_time[t]/(np.sqrt(var_prot[0])*np.sqrt(var_prot[t])) \n",
    "        \n",
    "        mutual_info = -0.5*np.log(1-rho**2) if rho**2 != 1 else np.inf\n",
    "        return mutual_info\n",
    "\n",
    "    \n",
    "mutual_info = np.vectorize(mutual_info)\n",
    "mi_ribo = mutual_info(np.arange(1,1000000), species='ribo')\n",
    "mi_prot = mutual_info(np.arange(1,1000000), species='prot')"
   ]
  },
  {
   "cell_type": "code",
   "execution_count": null,
   "metadata": {},
   "outputs": [],
   "source": [
    "fig, axes = plt.subplots(2)\n",
    "\n",
    "axes[0].plot(mi_ribo)\n",
    "axes[1].plot(mi_prot)\n",
    "axes[0].set_yscale('log')\n",
    "axes[1].set_yscale('log')\n",
    "plt.show()"
   ]
  },
  {
   "cell_type": "code",
   "execution_count": null,
   "metadata": {},
   "outputs": [],
   "source": [
    "plt.plot(cov_ribo_over_time, label='Cov')\n",
    "plt.plot(var_ribo*var_ribo[0], label='Var ribo')\n",
    "plt.legend()\n",
    "plt.show()"
   ]
  },
  {
   "cell_type": "code",
   "execution_count": null,
   "metadata": {},
   "outputs": [],
   "source": [
    "plt.plot(cov_prot_over_time, label='Cov')\n",
    "plt.plot(var_prot, label='Var prot')\n",
    "plt.legend()\n",
    "plt.show()"
   ]
  },
  {
   "cell_type": "code",
   "execution_count": null,
   "metadata": {},
   "outputs": [],
   "source": [
    "Trajectory(1e-18, iterations=100000).contour()\n",
    "sns.despine()"
   ]
  },
  {
   "cell_type": "code",
   "execution_count": null,
   "metadata": {},
   "outputs": [],
   "source": [
    "z_contour = scipy.stats.multivariate_normal(mean=X_t[-1], cov=V_t[-1]).pdf(points_contour)#[16300,5.970e6])"
   ]
  },
  {
   "cell_type": "code",
   "execution_count": null,
   "metadata": {},
   "outputs": [],
   "source": [
    "iterations = 1000000\n",
    "fractions = 20\n",
    "index_correction = np.zeros(fractions)\n",
    "index_correction[-1] = -1\n",
    "indices = (np.linspace(0,1,fractions) * iterations + index_correction).astype('int')\n",
    "\n",
    "plt.subplots(1, figsize=(10,10))\n",
    "\n",
    "x_contour = np.linspace(np.min(X_t[:,0])*0.9,np.max(X_t[:,0])*1.1,100)\n",
    "y_contour = np.linspace(np.min(X_t[:,1])*0.9,np.max(X_t[:,1])*1.1,100)\n",
    "x_contour, y_contour = np.meshgrid(x_contour, y_contour)\n",
    "points_contour = np.stack((x_contour, y_contour), axis=-1)\n",
    "\n",
    "\n",
    "z_contours = [scipy.stats.multivariate_normal(mean=X_t[i], cov=V_t[i]).pdf(points_contour) for i in indices] \n",
    "\n",
    "\n",
    "for i,z in enumerate(z_contours):\n",
    "    plt.contour(x_contour, y_contour, z)\n",
    "    plt.annotate('t= {}'.format(\"{:.2}\".format(div_time_volume(1e-18)*indices[i]/1e6) ),X_t[indices[i]]*np.array([1,1.1]), size=8)\n",
    "\n",
    "plt.xlabel('Number of ribosomes')\n",
    "plt.ylabel('Number of proteins')\n",
    "\n",
    "plt.show()"
   ]
  },
  {
   "cell_type": "code",
   "execution_count": null,
   "metadata": {},
   "outputs": [],
   "source": [
    "np.max(X_t[:,0])*1.1"
   ]
  },
  {
   "cell_type": "code",
   "execution_count": null,
   "metadata": {},
   "outputs": [],
   "source": [
    "\"{:.2E}\".format(div_time_volume(1e-18)*indices[0])"
   ]
  },
  {
   "cell_type": "code",
   "execution_count": null,
   "metadata": {},
   "outputs": [],
   "source": []
  },
  {
   "cell_type": "code",
   "execution_count": null,
   "metadata": {},
   "outputs": [],
   "source": [
    "fig = plt.figure()\n",
    "ax = fig.add_subplot(111, projection='3d')\n",
    "\n",
    "\n",
    "for i,z in enumerate(z_contours):\n",
    "    ax.plot_surface(x_contour, y_contour, z, cmap='coolwarm', alpha=0.4)\n",
    "    #plt.annotate('t= {}'.format(\"{:.2}\".format(div_time_volume(1e-18)*indices[i]/1e6) ),X_t[indices[i]]*np.array([1,1.1]), size=8)\n",
    "\n",
    "plt.show()"
   ]
  },
  {
   "cell_type": "code",
   "execution_count": null,
   "metadata": {},
   "outputs": [],
   "source": [
    "1e3"
   ]
  },
  {
   "cell_type": "code",
   "execution_count": null,
   "metadata": {},
   "outputs": [],
   "source": [
    "\n",
    "def dphi_dt(X, t=0):\n",
    "    #X[0] = [ribosomes](t)\n",
    "    #X[1] = [proteins](t)\n",
    "    F = reaction_rates(volume = 1e-18, X=np.atleast_2d(X).T)\n",
    "    return np.array([S @ F, np.identity(2)])"
   ]
  },
  {
   "cell_type": "code",
   "execution_count": null,
   "metadata": {},
   "outputs": [],
   "source": []
  },
  {
   "cell_type": "code",
   "execution_count": null,
   "metadata": {},
   "outputs": [],
   "source": [
    "A[0] @ np.eye(2) + np.eye(2)[0] @ A.T + E[0] @ E.T"
   ]
  },
  {
   "cell_type": "code",
   "execution_count": null,
   "metadata": {},
   "outputs": [],
   "source": [
    "riboprot_init = np.array([n_ribo_volume(1e-18), n_prot_volume(1e-18)])\n",
    "global_init = np.array([riboprot_init,np.identity(2)])\n",
    "odeint(dphi_dt, global_init, t=np.linspace(0,div_time_volume(1e-18),1e6))"
   ]
  },
  {
   "cell_type": "code",
   "execution_count": null,
   "metadata": {},
   "outputs": [],
   "source": [
    "ribo_t, prot_t = odeint(dphi_dt, np.array([n_ribo_volume(1e-18), n_prot_volume(1e-18)]), t=np.linspace(0,div_time_volume(1e-18),1e6)).T\n",
    "#plt.yscale('log')"
   ]
  },
  {
   "cell_type": "code",
   "execution_count": null,
   "metadata": {},
   "outputs": [],
   "source": [
    "plt.plot(ribo_t)\n",
    "plt.show()"
   ]
  },
  {
   "cell_type": "code",
   "execution_count": null,
   "metadata": {},
   "outputs": [],
   "source": []
  },
  {
   "cell_type": "code",
   "execution_count": null,
   "metadata": {},
   "outputs": [],
   "source": []
  },
  {
   "cell_type": "code",
   "execution_count": null,
   "metadata": {},
   "outputs": [],
   "source": [
    "scipy.stats.multivariate_normal(cov=np.array([[20,2],[3,2]]),mean=[2,2]).cov"
   ]
  },
  {
   "cell_type": "code",
   "execution_count": null,
   "metadata": {},
   "outputs": [],
   "source": []
  },
  {
   "cell_type": "code",
   "execution_count": null,
   "metadata": {},
   "outputs": [],
   "source": []
  }
 ],
 "metadata": {
  "kernelspec": {
   "display_name": "Python 3",
   "language": "python",
   "name": "python3"
  },
  "language_info": {
   "codemirror_mode": {
    "name": "ipython",
    "version": 3
   },
   "file_extension": ".py",
   "mimetype": "text/x-python",
   "name": "python",
   "nbconvert_exporter": "python",
   "pygments_lexer": "ipython3",
   "version": "3.6.5"
  }
 },
 "nbformat": 4,
 "nbformat_minor": 2
}
