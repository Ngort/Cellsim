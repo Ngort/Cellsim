{
 "cells": [
  {
   "cell_type": "code",
   "execution_count": 1,
   "metadata": {},
   "outputs": [],
   "source": [
    "%matplotlib inline\n",
    "import matplotlib.pyplot as plt\n",
    "import numpy as np\n",
    "from scipy.integrate import odeint"
   ]
  },
  {
   "cell_type": "code",
   "execution_count": 2,
   "metadata": {},
   "outputs": [],
   "source": [
    "gamma = 0.0138172\n",
    "\n",
    "ribo_decay = 6.205e-6\n",
    "prot_decay = 6.205e-6\n",
    "\n",
    "r_R = 63\n",
    "r_P = 63\n",
    "l_R = 5000\n",
    "l_P = 975\n",
    "\n",
    "LHS = np.array([[1,1,1,0],\n",
    "               [0,0,0,1]])\n",
    "\n",
    "RHS = np.array([[2,1,0,0],\n",
    "               [0,1,0,0]])\n",
    "\n",
    "S = RHS - LHS   \n",
    "\n",
    "def reaction_rates(volume, X, \n",
    "                   mu_ribo_synth= gamma*r_R/l_R,\n",
    "                   mu_prot_synth= (1-gamma)*r_P/l_P, \n",
    "                   mu_ribo_decay= ribo_decay, \n",
    "                   mu_prot_decay= prot_decay):\n",
    "    \n",
    "    mu_vector = np.array([mu_ribo_synth, mu_prot_synth, mu_ribo_decay, mu_prot_decay])\n",
    "    scaled_rates = np.power(X.repeat(LHS.shape[1],1)/volume,LHS).prod(axis=0)\n",
    "    \n",
    "    return mu_vector * scaled_rates * volume\n",
    "\n",
    "def dZ_dt(state, t=0, volume=1e-18):\n",
    "    \n",
    "    Z = state.reshape(2*LHS.shape[0]+1, LHS.shape[0])\n",
    "    \n",
    "    phi = np.atleast_2d(Z[0]).T\n",
    "    F = reaction_rates(volume=volume, X=phi)\n",
    "    E = S @ np.sqrt(np.diag(F))\n",
    "    J = ( (1/phi @ np.atleast_2d(F) ) * LHS).T\n",
    "    A = S @ J\n",
    "    \n",
    "    V = Z[1:A.shape[0]+1]\n",
    "    G = Z[A.shape[0]+1:]\n",
    "    \n",
    "    phidot = S @ F\n",
    "    Vdot = A @ V + V @ A.T + E @ E.T\n",
    "    \n",
    "    Gdot = A @ G\n",
    "    \n",
    "    ode_list = np.vstack((phidot, Vdot, Gdot)).reshape(-1)\n",
    "    \n",
    "    return ode_list\n"
   ]
  },
  {
   "cell_type": "code",
   "execution_count": 3,
   "metadata": {},
   "outputs": [],
   "source": [
    "class Trajectory:\n",
    "    def get_init_counts(self, volume):\n",
    "        # Linear scaling\n",
    "        n_ribo, n_prot = volume, volume\n",
    "        return n_ribo, n_prot\n",
    "\n",
    "    def __init__(self, \n",
    "                 volume   = 1e-18, \n",
    "                 iterations=100000):\n",
    "        \n",
    "        final_time = 10000.\n",
    "        \n",
    "        self.volume     = volume\n",
    "        self.iterations = iterations\n",
    "        \n",
    "        init_counts = np.array(self.get_init_counts(volume))\n",
    "        init_cov    = np.eye(2) * volume * 0.01\n",
    "        global_init = np.vstack([init_counts.reshape(1,2), init_cov, np.identity(2)])\n",
    "\n",
    "        T = np.linspace(0, final_time, iterations)\n",
    "\n",
    "        solved_odes = odeint(dZ_dt, y0=global_init.reshape(-1), t=T, args=(volume,)).reshape(-1,2*LHS.shape[0]+1, LHS.shape[0])\n",
    "\n",
    "        n_species = len(init_counts)\n",
    "        self.X_t = solved_odes[:,0,:]\n",
    "        self.V_t = solved_odes[:,1:n_species+1,:]\n",
    "        self.G_t = solved_odes[:,n_species+1:,:]\n",
    "        self.cov_t = self.V_t[0] @ self.G_t.transpose(0,2,1)\n",
    "\n",
    "        self.var_ribo = self.V_t[:,0,0]\n",
    "        self.var_prot = self.V_t[:,1,1]\n",
    "        self.cov_riboprot = self.V_t[:,0,1]\n",
    "\n",
    "        self.cov_ribo_over_time = self.cov_t[:,0,0]\n",
    "        self.cov_prot_over_time = self.cov_t[:,1,1]\n",
    "        self.cov_riboprot_over_time = self.cov_t[:,0,1]\n",
    "\n",
    "        self.rho_ribo = np.array([self.cov_ribo_over_time[t]/(np.sqrt(self.var_ribo[0])*np.sqrt(self.var_ribo[t])) for t in range(0,iterations)])\n",
    "        self.rho_prot = np.array([self.cov_prot_over_time[t]/(np.sqrt(self.var_prot[0])*np.sqrt(self.var_prot[t])) for t in range(0,iterations)])\n",
    "\n",
    "        self.mi_ribo = -0.5*np.log(1-self.rho_ribo**2)\n",
    "        self.mi_prot = -0.5*np.log(1-self.rho_prot**2)\n"
   ]
  },
  {
   "cell_type": "code",
   "execution_count": 4,
   "metadata": {},
   "outputs": [
    {
     "name": "stderr",
     "output_type": "stream",
     "text": [
      "/Users/nico/anaconda3/lib/python3.6/site-packages/ipykernel_launcher.py:41: RuntimeWarning: divide by zero encountered in log\n",
      "/Users/nico/anaconda3/lib/python3.6/site-packages/ipykernel_launcher.py:42: RuntimeWarning: divide by zero encountered in log\n",
      "/Users/nico/anaconda3/lib/python3.6/site-packages/ipykernel_launcher.py:41: RuntimeWarning: invalid value encountered in log\n",
      "/Users/nico/anaconda3/lib/python3.6/site-packages/ipykernel_launcher.py:42: RuntimeWarning: invalid value encountered in log\n"
     ]
    }
   ],
   "source": [
    "volumes = np.logspace(-3,3,10)\n",
    "trajectories_by_volume = [Trajectory(volume=v) for v in volumes]"
   ]
  },
  {
   "cell_type": "code",
   "execution_count": 5,
   "metadata": {},
   "outputs": [
    {
     "data": {
      "image/png": "[encoded data removed]",
      "text/plain": [
       "<Figure size 576x432 with 1 Axes>"
      ]
     },
     "metadata": {},
     "output_type": "display_data"
    }
   ],
   "source": [
    "plt.figure(figsize=(8,6))\n",
    "for i,traj in enumerate(trajectories_by_volume):\n",
    "    plt.plot(traj.mi_ribo, label='%0.1f'%np.log10(traj.volume))\n",
    "plt.yscale('log')\n",
    "plt.ylabel('MI(Ribo(initial) : Ribo(final))')\n",
    "plt.xlabel(r'Time')\n",
    "plt.legend(bbox_to_anchor=(1.05, 1), loc=2, borderaxespad=0., title='Log(Volume)')\n",
    "plt.show()"
   ]
  },
  {
   "cell_type": "code",
   "execution_count": null,
   "metadata": {},
   "outputs": [],
   "source": []
  }
 ],
 "metadata": {
  "kernelspec": {
   "display_name": "Python 3",
   "language": "python",
   "name": "python3"
  },
  "language_info": {
   "codemirror_mode": {
    "name": "ipython",
    "version": 3
   },
   "file_extension": ".py",
   "mimetype": "text/x-python",
   "name": "python",
   "nbconvert_exporter": "python",
   "pygments_lexer": "ipython3",
   "version": "3.6.5"
  }
 },
 "nbformat": 4,
 "nbformat_minor": 2
}
