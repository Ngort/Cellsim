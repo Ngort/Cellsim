{
 "cells": [
  {
   "cell_type": "code",
   "execution_count": 6,
   "metadata": {},
   "outputs": [],
   "source": [
    "%matplotlib inline\n",
    "import matplotlib.pyplot as plt\n",
    "import numpy as np\n",
    "from scipy.integrate import odeint"
   ]
  },
  {
   "cell_type": "code",
   "execution_count": 7,
   "metadata": {},
   "outputs": [
    {
     "data": {
      "text/plain": [
       "0.0027321103566716656"
      ]
     },
     "execution_count": 7,
     "metadata": {},
     "output_type": "execute_result"
    }
   ],
   "source": [
    "def get_init_counts(volume):\n",
    "        n_ribo = (7.280245377599019e21*(1 + 1.3322199014570686e-12/\n",
    "            volume**0.6454883435592754)*volume**0.6971221467560254)/(-5000*(1 +\n",
    "             1.3322199014570686e-12/volume**0.6454883435592754) + \n",
    "          1.3525663798553437e-6/volume**0.6454883435592754)\n",
    "\n",
    "        n_prot = 7.466918335998994e18*(volume**0.6971221467560254)\n",
    "        \n",
    "        return n_ribo, n_prot #volume\n",
    "\n",
    "def get_div_time(volume):\n",
    "    if True:\n",
    "        return 1.4881390043125451e-8/volume**0.6454883435592754\n",
    "    else:\n",
    "        return 10000.\n",
    "    \n",
    "get_init_counts(1e-18)[0]/get_init_counts(1e-18)[1]\n",
    "    "
   ]
  },
  {
   "cell_type": "code",
   "execution_count": 8,
   "metadata": {},
   "outputs": [],
   "source": [
    "# fraction of ribosomal capacity invested in ribosome production\n",
    "gamma = 0.0138172 #unitless / scales with size\n",
    "\n",
    "#specific decay rates per second\n",
    "ribo_decay = 6.205e-6 # 1/s\n",
    "prot_decay = 6.205e-6 # 1/s\n",
    "\n",
    "\n",
    "\n",
    "\n",
    "# transcript processing rates [bp/s]\n",
    "r_R = 50 #bp/s\n",
    "r_P = 50 #bp/s\n",
    "\n",
    "# average transcript length \n",
    "l_R = 5000 #bp\n",
    "l_P = 975 #bp\n",
    "\n",
    "\n",
    "# steady-state\n",
    "#ribo_decay = gamma * r_R / l_R # 1/s\n",
    "#prot_decay = (1-gamma)*r_P/ l_P * get_init_counts(1e-18)[0]/get_init_counts(1e-18)[1] # 1/s\n",
    "\n",
    "\n",
    "\n",
    "LHS = np.array([[1,1,1,0],\n",
    "               [0,0,0,1]])\n",
    "\n",
    "RHS = np.array([[2,1,0,0],\n",
    "                [0,1,0,0]])\n",
    "\n",
    "\n",
    "#stoichiometric matrix\n",
    "S = RHS - LHS   \n",
    "\n",
    "\n",
    "def reaction_rates(volume, X, \n",
    "                   mu_ribo_synth= gamma*r_R/l_R, #average kinetic rate of ribosomal synthesis [1/s]\n",
    "                   mu_prot_synth= (1-gamma)*r_P/l_P, #average kinetic rate of protein synthesis [1/s]\n",
    "                   mu_ribo_decay= ribo_decay,  #constant decay rate for ribosomes [1/s]\n",
    "                   mu_prot_decay= prot_decay): #constant decay rate for proteins [1/s]\n",
    "    \n",
    "    #vecrtor of rates\n",
    "    mu_vector = np.array([mu_ribo_synth, mu_prot_synth, mu_ribo_decay, mu_prot_decay])\n",
    "    scaled_rates = np.power(X.repeat(LHS.shape[1],1),LHS).prod(axis=0)\n",
    "    #if np.any(scaled_rates < 0):\n",
    "    #    print(scaled_rates)\n",
    "    #    print(X)\n",
    "    #    raise\n",
    "    return mu_vector * scaled_rates\n",
    "\n",
    "def dZ_dt(state, \n",
    "          t=0, #[s]\n",
    "          volume=1e-18, t_division=1e10): # [m3]\n",
    "    \n",
    "    if np.any(np.isnan(state)):\n",
    "        print(t)\n",
    "        raise\n",
    "    \n",
    "    Z = state.reshape(2*LHS.shape[0]+1, LHS.shape[0])\n",
    "    \n",
    "    #print(Z)\n",
    "    \n",
    "    #expected counts [unitless]\n",
    "    phi = np.atleast_2d(Z[0]).T \n",
    "    \n",
    "    \n",
    "    F = reaction_rates(volume=volume, X=phi)\n",
    "\n",
    "    #assert (np.all(np.diag(F) >= 0))\n",
    "    E = S @ np.sqrt(np.diag(F))\n",
    "    J = ( (1/phi @ np.atleast_2d(F) ) * LHS).T\n",
    "    A = S @ J\n",
    "    \n",
    "    V = Z[1:A.shape[0]+1]\n",
    "    G = Z[A.shape[0]+1:]\n",
    "    \n",
    "    \n",
    "    phidot = S @ F\n",
    "    Vdot = A @ V + V @ A.T + E @ E.T\n",
    "    \n",
    "    Gdot = A @ G\n",
    "    #print(Gdot)\n",
    "\n",
    "\n",
    "    \n",
    "    ode_list = np.vstack((phidot, Vdot, Gdot)).reshape(-1)\n",
    "\n",
    "    \n",
    "    return ode_list\n"
   ]
  },
  {
   "cell_type": "code",
   "execution_count": 50,
   "metadata": {},
   "outputs": [],
   "source": [
    "class Trajectory:\n",
    "    def get_init_counts(self, volume):\n",
    "        n_ribo = (7.280245377599019e21*(1 + 1.3322199014570686e-12/\n",
    "            volume**0.6454883435592754)*volume**0.6971221467560254)/(-5000*(1 +\n",
    "             1.3322199014570686e-12/volume**0.6454883435592754) + \n",
    "          1.3525663798553437e-6/volume**0.6454883435592754)\n",
    "\n",
    "        n_prot = 7.466918335998994e18*(volume**0.6971221467560254)\n",
    "        \n",
    "        return n_ribo, n_prot #volume\n",
    "\n",
    "    def get_div_time(self, volume):\n",
    "        if True:\n",
    "            return 1.4881390043125451e-8/volume**0.6454883435592754\n",
    "        else:\n",
    "            return 10000.\n",
    "        \n",
    "        #n_ribo, n_prot = volume, volume\n",
    "        #return n_ribo, n_prot\n",
    "\n",
    "    def __init__(self, \n",
    "                 volume   = 1e-18, \n",
    "                 iterations=100000):\n",
    "        \n",
    "        self.final_time = 200000#00.\n",
    "        \n",
    "        self.volume     = volume\n",
    "        self.iterations = iterations\n",
    "        \n",
    "        init_counts = np.array(self.get_init_counts(volume))\n",
    "        n_species = len(init_counts)\n",
    "        \n",
    "        init_cov    = np.eye(n_species) * 0.01 * init_counts**2\n",
    "        global_init = np.vstack([init_counts.reshape(1,n_species), init_cov, np.identity(n_species)]).astype('float64')\n",
    "        \n",
    "        \n",
    "        # division time in terms of array index\n",
    "        div_time = int(self.iterations/self.final_time * self.get_div_time(self.volume))\n",
    "        \n",
    "        # from 0 to final_time, \n",
    "        T = np.linspace(0, self.final_time, self.iterations)\n",
    "        #epsilon = self.final_time/self.iterations\n",
    "        \n",
    "        \n",
    "        \n",
    "        n_generations = int(np.ceil(self.final_time/self.get_div_time(self.volume)))\n",
    "        \n",
    "        #divides mean counts by 2 in the beginning of each new generation\n",
    "        division_matrix = np.vstack((np.ones((1,n_species))*1, np.ones((n_species, n_species))*0.25, np.ones((n_species, n_species))))\n",
    "        \n",
    "        self.generations = []\n",
    "        \n",
    "        for gen_id in range(n_generations):\n",
    "            \n",
    "            #make generations either as long as division time or as the remaining time steps before final_time\n",
    "            t_final = min(self.get_div_time(self.volume), int(self.final_time - gen_id*self.get_div_time(self.volume)))\n",
    "            T_gen = np.linspace(0, t_final, self.iterations)\n",
    "            \n",
    "            if gen_id == 0:\n",
    "                y0 = global_init.reshape(-1)\n",
    "            else:\n",
    "                #restart counts, divide variance, keep G matrix intact\n",
    "\n",
    "\n",
    "                y0 = np.vstack([init_counts.reshape(1, n_species), \n",
    "                                gen[-1, 1:1+n_species, :] / 8 + gen[-1,0,:] / 4,\n",
    "                                gen[-1, 1+n_species: , :]]).reshape(-1)\n",
    "                        \n",
    "#                y0 = (gen[-1,:,:] * division_matrix).reshape(-1)\n",
    "            \n",
    "            gen = odeint(dZ_dt, y0=y0, t=T_gen, args=(volume,self.get_div_time(self.volume))).reshape(-1,2*LHS.shape[0]+1, LHS.shape[0])\n",
    "            self.generations.append(gen)\n",
    "            #print(gen[-1,:,:])\n",
    "        \n",
    "        \n",
    "        solved_odes_multigen = np.vstack(self.generations)\n",
    "        \n",
    "        solved_odes = odeint(dZ_dt, y0=global_init.reshape(-1), t=T, args=(volume,self.get_div_time(self.volume))).reshape(-1,2*LHS.shape[0]+1, LHS.shape[0])\n",
    "        solved_odes = np.vstack(self.generations)\n",
    "        \n",
    "        self.X_t = solved_odes[:,0,:]\n",
    "        self.V_t = solved_odes[:,1:n_species+1,:]\n",
    "        self.G_t = solved_odes[:,n_species+1:, :]\n",
    "        self.cov_t = self.V_t[0] @ self.G_t.transpose(0,2,1)\n",
    "\n",
    "        self.var_ribo = self.V_t[:,0,0]\n",
    "        self.var_prot = self.V_t[:,1,1]\n",
    "        self.cov_riboprot = self.V_t[:,0,1]\n",
    "\n",
    "        self.cov_ribo_over_time = self.cov_t[:,0,0]\n",
    "        self.cov_prot_over_time = self.cov_t[:,1,1]\n",
    "        self.cov_riboprot_over_time = self.cov_t[:,1,0]\n",
    "\n",
    "        self.rho_ribo = np.array([self.cov_ribo_over_time[t]/(np.sqrt(self.var_ribo[0])*np.sqrt(self.var_ribo[t])) for t in range(0,iterations)])\n",
    "        self.rho_prot = np.array([self.cov_prot_over_time[t]/(np.sqrt(self.var_prot[0])*np.sqrt(self.var_prot[t])) for t in range(0,iterations)])\n",
    "        self.rho_riboprot = np.array([self.cov_riboprot_over_time[t]/(np.sqrt(self.cov_riboprot[0])*np.sqrt(self.cov_riboprot[t])) for t in range(0,iterations)])\n",
    "        \n",
    "        if any(self.rho_ribo < 1e-3):\n",
    "            self.mi_ribo = 0.721348*self.rho_ribo**2\n",
    "        else:    \n",
    "            self.mi_ribo = -0.5*np.log2(1-self.rho_ribo**2)\n",
    "        \n",
    "        if any(self.rho_prot < 1e-3):\n",
    "            self.mi_prot = 0.721348*self.rho_prot**2\n",
    "        else:    \n",
    "            self.mi_prot = -0.5*np.log2(1-self.rho_riboprot**2) \n",
    "        \n",
    "        if any(self.rho_riboprot < 1e-3):\n",
    "            self.mi_riboprot = 0.721348*self.rho_riboprot**2\n",
    "        else:    \n",
    "            self.mi_riboprot = -0.5*np.log2(1-self.rho_riboprot**2) \n",
    "        \n",
    "        \n",
    "        if self.rho_ribo[div_time] < 1e-3:\n",
    "            self.mi_ribo_div = 0.721348*self.rho_ribo[div_time]**2\n",
    "        else:\n",
    "            self.mi_ribo_div = -0.5*np.log2(1-self.rho_ribo[div_time]**2)\n",
    "        \n",
    "        if self.rho_prot[div_time] < 1e-3:\n",
    "            self.mi_prot_div = 0.721348*self.rho_prot[div_time]**2\n",
    "        else:\n",
    "            self.mi_prot_div = -0.5*np.log2(1-self.rho_prot[div_time]**2)\n",
    "        \n",
    "        \n",
    "        if self.rho_riboprot[div_time] < 1e-3:\n",
    "            self.mi_riboprot_div = 0.721348*self.rho_riboprot[div_time]**2\n",
    "        else:\n",
    "            self.mi_riboprot_div = -0.5*np.log2(1-self.rho_riboprot[div_time]**2)\n",
    "        \n",
    "        \n",
    "        #\n",
    "        #self.mi_prot = 0.5*self.rho_prot**2\n"
   ]
  },
  {
   "cell_type": "code",
   "execution_count": 51,
   "metadata": {},
   "outputs": [
    {
     "name": "stderr",
     "output_type": "stream",
     "text": [
      "/Users/nico/anaconda3/lib/python3.6/site-packages/ipykernel_launcher.py:96: RuntimeWarning: invalid value encountered in double_scalars\n",
      "/Users/nico/anaconda3/lib/python3.6/site-packages/ipykernel_launcher.py:101: RuntimeWarning: divide by zero encountered in log2\n",
      "/Users/nico/anaconda3/lib/python3.6/site-packages/ipykernel_launcher.py:108: RuntimeWarning: invalid value encountered in less\n"
     ]
    },
    {
     "data": {
      "text/plain": [
       "[<matplotlib.lines.Line2D at 0x151e3e8a90>]"
      ]
     },
     "execution_count": 51,
     "metadata": {},
     "output_type": "execute_result"
    },
    {
     "data": {
      "image/png": "[encoded data removed]",
      "text/plain": [
       "<Figure size 432x288 with 1 Axes>"
      ]
     },
     "metadata": {},
     "output_type": "display_data"
    }
   ],
   "source": [
    "traj = Trajectory(volume=1e-18)\n",
    "#traj = Trajectory(volume=1e-18)\n",
    "\n",
    "#print(np.linspace(0, traj.final_time, traj.iterations))\n",
    "#print('banana')\n",
    "#plt.plot(traj.X_t[:,0])\n",
    "#plt.yscale('log')\n",
    "#print(np.linspace(0, traj.final_time, traj.iterations))\n",
    "#print(traj.get_div_time(traj.volume))\n",
    "\n",
    "plt.plot(traj.V_t[:,0,0])\n",
    "#plt.yscale('log')\n",
    "#plt.xscale('log')"
   ]
  },
  {
   "cell_type": "code",
   "execution_count": 53,
   "metadata": {},
   "outputs": [
    {
     "data": {
      "image/png": "[encoded data removed]",
      "text/plain": [
       "<Figure size 720x432 with 4 Axes>"
      ]
     },
     "metadata": {},
     "output_type": "display_data"
    }
   ],
   "source": [
    "range_end = 2000000\n",
    "\n",
    "fig, axes = plt.subplots(2,2, figsize=(10,6))\n",
    "\n",
    "axes[0,0].plot(range(range_end),traj.X_t[0:range_end,0])\n",
    "axes[0,0].set_ylabel(r'$\\varphi_{ribosomes}$', size=12)\n",
    "axes[0,0].set_xlabel(r't')\n",
    "\n",
    "axes[0,1].plot(range(range_end),traj.X_t[0:range_end,1])\n",
    "axes[0,1].set_ylabel(r'$\\varphi_{proteins}$', size=12)\n",
    "axes[0,1].set_xlabel(r't')\n",
    "\n",
    "axes[1,0].plot(range(range_end),traj.V_t[0:range_end,0,0])\n",
    "axes[1,0].set_ylabel(r'$\\sigma_{ribosomes}$', size=12)\n",
    "axes[1,0].set_xlabel(r't')\n",
    "\n",
    "axes[1,1].plot(range(range_end),traj.V_t[0:range_end,1,1])\n",
    "axes[1,1].set_ylabel(r'$\\sigma_{proteins}$', size=12)\n",
    "axes[1,1].set_xlabel(r't')\n",
    "\n",
    "\n",
    "plt.tight_layout()\n",
    "plt.show()"
   ]
  },
  {
   "cell_type": "code",
   "execution_count": null,
   "metadata": {},
   "outputs": [],
   "source": [
    "range_end = 1000000\n",
    "\n",
    "plt.plot(range(range_end),traj.X_t[0:range_end,0])\n",
    "plt.ylabel(r'$V_{prot}$')\n",
    "plt.xlabel(r't')\n",
    "plt.show()\n"
   ]
  },
  {
   "cell_type": "code",
   "execution_count": null,
   "metadata": {},
   "outputs": [],
   "source": [
    "traj.generations[0]"
   ]
  },
  {
   "cell_type": "code",
   "execution_count": null,
   "metadata": {},
   "outputs": [],
   "source": [
    "volumes = np.logspace(-20,-15,20)\n",
    "trajectories_by_volume = [Trajectory(volume=v) for v in volumes]"
   ]
  },
  {
   "cell_type": "code",
   "execution_count": null,
   "metadata": {},
   "outputs": [],
   "source": [
    "mi_ribo_div_by_size = [trajectories_by_volume[i].mi_ribo_div for i in range(len(volumes))]\n",
    "mi_prot_div_by_size = [trajectories_by_volume[i].mi_prot_div for i in range(len(volumes))]\n",
    "mi_riboprot_div_by_size = [trajectories_by_volume[i].mi_riboprot_div for i in range(len(volumes))]"
   ]
  },
  {
   "cell_type": "code",
   "execution_count": null,
   "metadata": {},
   "outputs": [],
   "source": [
    "fig, axes = plt.subplots(2, sharex=False, figsize=(10,10))\n",
    "axes[0].plot(volumes,mi_ribo_div_by_size)\n",
    "axes[0].set_xscale('log')\n",
    "axes[1].plot(volumes,mi_prot_div_by_size)\n",
    "axes[1].set_xscale('log')\n",
    "#axes[2].plot(volumes,mi_riboprot_div_by_size)\n",
    "axes[1].set_xscale('log')\n",
    "axes[1].set_xlabel('Cell volume')\n",
    "axes[0].set_ylabel(r'$MI_{ribosomes}$ (bit)')\n",
    "axes[1].set_ylabel(r'$MI_{proteins}$ (bit)')\n",
    "axes[0].set_title('Mutual information between number of X at initial and division times')\n",
    "\n",
    "plt.tight_layout()\n",
    "plt.show()"
   ]
  },
  {
   "cell_type": "code",
   "execution_count": null,
   "metadata": {},
   "outputs": [],
   "source": [
    "plt.figure(figsize=(8,6))\n",
    "for i,traj in enumerate(trajectories_by_volume):\n",
    "    plt.plot(traj.mi_ribo, label='%0.1f'%np.log10(traj.volume))\n",
    "#plt.yscale('log')\n",
    "#plt.xscale('log')\n",
    "plt.ylabel('MI(Ribo(initial) : Ribo(final))')\n",
    "plt.xlabel(r'Time')\n",
    "plt.legend(bbox_to_anchor=(1.05, 1), loc=2, borderaxespad=0., title='Log(Volume)')\n",
    "#plt.xlim([-1,1])\n",
    "plt.ylim([0,1])\n",
    "plt.show()"
   ]
  },
  {
   "cell_type": "code",
   "execution_count": null,
   "metadata": {},
   "outputs": [],
   "source": [
    "print(trajectories_by_volume[0].V_t)\n",
    "print(stack_overflow_traj.V_t)\n",
    "#stack_overflow_traj = trajectories_by_volume[0]"
   ]
  },
  {
   "cell_type": "code",
   "execution_count": null,
   "metadata": {},
   "outputs": [],
   "source": [
    "#trajectories_by_volume[0].X_t[:,0]\n",
    "plt.plot(trajectories_by_volume[0].X_t[:,0])\n",
    "#plt.yscale('log')\n",
    "plt.show()"
   ]
  },
  {
   "cell_type": "code",
   "execution_count": null,
   "metadata": {},
   "outputs": [],
   "source": []
  },
  {
   "cell_type": "code",
   "execution_count": null,
   "metadata": {},
   "outputs": [],
   "source": [
    "logsp = np.logspace(-21,-15,50)\n",
    "plt.plot(logsp, get_init_counts(logsp)[0])\n",
    "plt.xscale('log')\n",
    "#plt.yscale('log')\n",
    "#plt.ylim(-1e4, 1e4)\n",
    "plt.show()"
   ]
  },
  {
   "cell_type": "code",
   "execution_count": null,
   "metadata": {},
   "outputs": [],
   "source": [
    "def get_div_time(volume):\n",
    "    return 1.4881390043125451e-8/volume**0.6454883435592754"
   ]
  },
  {
   "cell_type": "code",
   "execution_count": null,
   "metadata": {},
   "outputs": [],
   "source": [
    "plt.plot(logsp,get_div_time(logsp))\n",
    "plt.xscale('log')\n",
    "plt.yscale('log')"
   ]
  },
  {
   "cell_type": "code",
   "execution_count": null,
   "metadata": {},
   "outputs": [],
   "source": []
  },
  {
   "cell_type": "code",
   "execution_count": null,
   "metadata": {},
   "outputs": [],
   "source": [
    "(3 - 5.9 % 3) < 0.1"
   ]
  },
  {
   "cell_type": "code",
   "execution_count": null,
   "metadata": {},
   "outputs": [],
   "source": [
    "n_species = 2 "
   ]
  },
  {
   "cell_type": "code",
   "execution_count": null,
   "metadata": {},
   "outputs": [],
   "source": [
    "np.array(\n",
    "    \n",
    "    [[],\n",
    "          [],\n",
    "          [],\n",
    "          []])"
   ]
  }
 ],
 "metadata": {
  "kernelspec": {
   "display_name": "Python 3",
   "language": "python",
   "name": "python3"
  },
  "language_info": {
   "codemirror_mode": {
    "name": "ipython",
    "version": 3
   },
   "file_extension": ".py",
   "mimetype": "text/x-python",
   "name": "python",
   "nbconvert_exporter": "python",
   "pygments_lexer": "ipython3",
   "version": "3.6.5"
  }
 },
 "nbformat": 4,
 "nbformat_minor": 2
}
