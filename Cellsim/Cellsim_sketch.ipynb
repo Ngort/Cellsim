{
 "cells": [
  {
   "cell_type": "code",
   "execution_count": 81,
   "metadata": {
    "collapsed": true
   },
   "outputs": [],
   "source": [
    "import numpy as np\n",
    "import matplotlib.pyplot as plt\n",
    "from scipy.integrate import odeint"
   ]
  },
  {
   "cell_type": "code",
   "execution_count": 8,
   "metadata": {
    "collapsed": true
   },
   "outputs": [],
   "source": [
    "k = 10\n",
    "genes = np.zeros(k)"
   ]
  },
  {
   "cell_type": "code",
   "execution_count": 9,
   "metadata": {},
   "outputs": [
    {
     "data": {
      "text/plain": [
       "array([0., 0., 0., 0., 0., 0., 0., 0., 0., 0.])"
      ]
     },
     "execution_count": 9,
     "metadata": {},
     "output_type": "execute_result"
    }
   ],
   "source": [
    "genes"
   ]
  },
  {
   "cell_type": "code",
   "execution_count": 13,
   "metadata": {},
   "outputs": [],
   "source": []
  },
  {
   "cell_type": "code",
   "execution_count": 79,
   "metadata": {},
   "outputs": [],
   "source": [
    "gamma = 0.5\n",
    "r_r = 0.5\n",
    "l_r = 0.3\n",
    "eta = 0.48\n",
    "l_p = 0.4\n",
    "phi = 0.45\n",
    "\n",
    "def dN_dt(X, t=0):\n",
    "    return np.array([\n",
    "            gamma*X[0]*r_r/l_r - eta*X[0],\n",
    "            (1-gamma)*X[0]*r_r/l_p - phi*X[1]\n",
    "    ])"
   ]
  },
  {
   "cell_type": "code",
   "execution_count": 80,
   "metadata": {},
   "outputs": [
    {
     "data": {
      "image/png": "[encoded data removed]",
      "text/plain": [
       "<matplotlib.figure.Figure at 0x1123d9a90>"
      ]
     },
     "metadata": {},
     "output_type": "display_data"
    }
   ],
   "source": [
    "t = np.linspace(0,200,100)\n",
    "solv = odeint(dN_dt, [1,10], t)\n",
    "\n",
    "ribo = solv[:,0]\n",
    "prot = solv[:,1]\n",
    "plt.plot(ribo, label='Ribosomes')\n",
    "plt.plot(prot, label='Proteins')\n",
    "plt.yscale('log')\n",
    "plt.legend()\n",
    "plt.show()"
   ]
  },
  {
   "cell_type": "code",
   "execution_count": null,
   "metadata": {},
   "outputs": [],
   "source": []
  },
  {
   "cell_type": "code",
   "execution_count": 36,
   "metadata": {},
   "outputs": [
    {
     "data": {
      "text/plain": [
       "array([1.        , 1.02040748, 1.04123138, 1.06248027, 1.0841628 ,\n",
       "       1.10628781, 1.12886433, 1.15190159, 1.17540897, 1.19939609,\n",
       "       1.22387272, 1.24884886, 1.27433469, 1.30034064, 1.3268773 ,\n",
       "       1.3539555 , 1.38158629, 1.40978096, 1.438551  , 1.46790818,\n",
       "       1.49786446, 1.52843207, 1.55962349, 1.59145145, 1.62392893,\n",
       "       1.6570692 , 1.69088578, 1.72539247, 1.76060335, 1.7965328 ,\n",
       "       1.83319548, 1.87060634, 1.90878067, 1.94773404, 1.98748236,\n",
       "       2.02804185, 2.06942905, 2.11166087, 2.15475453, 2.19872761,\n",
       "       2.24359805, 2.28938418, 2.33610469, 2.38377864, 2.4324255 ,\n",
       "       2.48206514, 2.53271779, 2.58440413, 2.63714527, 2.69096271,\n",
       "       2.74587843, 2.80191485, 2.85909482, 2.91744169, 2.97697927,\n",
       "       3.03773186, 3.09972426, 3.16298177, 3.2275302 , 3.2933959 ,\n",
       "       3.36060575, 3.42918719, 3.49916819, 3.57057734, 3.64344376,\n",
       "       3.71779721, 3.79366801, 3.87108715, 3.95008621, 4.03069745,\n",
       "       4.11295376, 4.19688871, 4.28253655, 4.36993226, 4.45911149,\n",
       "       4.55011064, 4.64296685, 4.73771802, 4.83440283, 4.93306073,\n",
       "       5.03373198, 5.13645769, 5.24127976, 5.34824098, 5.457385  ,\n",
       "       5.56875638, 5.68240056, 5.79836393, 5.91669382, 6.03743852,\n",
       "       6.16064732, 6.2863705 , 6.41465936, 6.54556628, 6.67914467,\n",
       "       6.81544906, 6.95453508, 7.09645949, 7.24128022, 7.38905637])"
      ]
     },
     "execution_count": 36,
     "metadata": {},
     "output_type": "execute_result"
    }
   ],
   "source": [
    "ribo"
   ]
  },
  {
   "cell_type": "code",
   "execution_count": null,
   "metadata": {
    "collapsed": true
   },
   "outputs": [],
   "source": []
  }
 ],
 "metadata": {
  "kernelspec": {
   "display_name": "Python 3",
   "language": "python",
   "name": "python3"
  },
  "language_info": {
   "codemirror_mode": {
    "name": "ipython",
    "version": 3
   },
   "file_extension": ".py",
   "mimetype": "text/x-python",
   "name": "python",
   "nbconvert_exporter": "python",
   "pygments_lexer": "ipython3",
   "version": "3.6.2"
  }
 },
 "nbformat": 4,
 "nbformat_minor": 2
}
