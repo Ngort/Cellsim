{
 "cells": [
  {
   "cell_type": "code",
   "execution_count": 4,
   "metadata": {
    "collapsed": true
   },
   "outputs": [],
   "source": [
    "import numpy as np\n",
    "import matplotlib.pyplot as plt\n",
    "from scipy.integrate import odeint"
   ]
  },
  {
   "cell_type": "code",
   "execution_count": 5,
   "metadata": {
    "collapsed": true
   },
   "outputs": [],
   "source": [
    "k = 10\n",
    "genes = np.zeros(k)"
   ]
  },
  {
   "cell_type": "code",
   "execution_count": 6,
   "metadata": {},
   "outputs": [
    {
     "data": {
      "text/plain": [
       "array([0., 0., 0., 0., 0., 0., 0., 0., 0., 0.])"
      ]
     },
     "execution_count": 6,
     "metadata": {},
     "output_type": "execute_result"
    }
   ],
   "source": [
    "genes"
   ]
  },
  {
   "cell_type": "code",
   "execution_count": null,
   "metadata": {
    "collapsed": true
   },
   "outputs": [],
   "source": []
  },
  {
   "cell_type": "code",
   "execution_count": 73,
   "metadata": {},
   "outputs": [],
   "source": [
    "alpha = 0.01\n",
    "beta = 0.1\n",
    "gamma = 0.9\n",
    "eta = 4.58e-6\n",
    "xi = 4.58e-6\n",
    "rho = 0.1\n",
    "phi = 4.58e-6\n",
    "k1=10e-2\n",
    "k2=10e-2\n",
    "r_r = 1e-1\n",
    "r_mrna = 1e-1\n",
    "\n",
    "l_mrna = 1\n",
    "l_r = 1000\n",
    "\n",
    "l_p = 975\n",
    "\n",
    "\n",
    "def dN_dt(X, t=0):\n",
    "    #X[0] = [aminoacids](t)\n",
    "    #X[1] = [mRNA](t)\n",
    "    #X[2] = [ribosomes](t)\n",
    "    #X[3] = [proteins](t)\n",
    "    \n",
    "    return np.array([\n",
    "            (phi - k2*X[0]*r_r*(1-gamma)/l_p)*X[2] + (eta - k1*X[0]*r_r*gamma/l_r)*X[1], \n",
    "            #rho*X[3]*r_mrna/l_mrna - xi*X[1],\n",
    "            gamma*X[0]*k1*X[1]*r_r/l_r - eta*X[1],\n",
    "            (1-gamma)*X[0]*k2*X[1]*r_r/l_p - phi*X[1]\n",
    "    ])\n",
    "\n",
    "def cell_generation(initial_array=np.array([1000,1000,100]).reshape(1,-1), timesteps=2000):\n",
    "    initial_aa = initial_array[-1,0]/2\n",
    "    #initial_mrna = initial_array[-1,1]/2\n",
    "    initial_ribosomes = initial_array[-1,1]/2\n",
    "    initial_proteins = initial_array[-1,2]/2\n",
    "    t = np.arange(timesteps)\n",
    "    \n",
    "    return np.row_stack([initial_array,\n",
    "                            odeint(dN_dt, [initial_aa, initial_ribosomes,initial_proteins], t)])\n",
    "\n",
    "def sim_cell_dynamics(n_generations, t_per_generation):\n",
    "    cell = cell_generation(timesteps=t_per_generation)\n",
    "    for i in range(n_generations):\n",
    "        cell = cell_generation(cell)\n",
    "        \n",
    "    return cell"
   ]
  },
  {
   "cell_type": "code",
   "execution_count": 74,
   "metadata": {},
   "outputs": [
    {
     "data": {
      "image/png": "[encoded data removed]",
      "text/plain": [
       "<matplotlib.figure.Figure at 0x11bb287f0>"
      ]
     },
     "metadata": {},
     "output_type": "display_data"
    }
   ],
   "source": [
    "cell = sim_cell_dynamics(20,10)\n",
    "aas = cell[:,0]\n",
    "#mrnas = cell[:,1]\n",
    "ribo = cell[:,1]\n",
    "prot = cell[:,2]\n",
    "plt.plot(aas, label='Amino acids')\n",
    "#plt.plot(mrnas, label='mRNA')\n",
    "plt.plot(ribo, label='Ribosomes')\n",
    "plt.plot(prot, label='Proteins')\n",
    "plt.yscale('log')\n",
    "plt.xlabel('Time')\n",
    "plt.ylabel('N')\n",
    "plt.legend()\n",
    "plt.show()"
   ]
  },
  {
   "cell_type": "code",
   "execution_count": 128,
   "metadata": {},
   "outputs": [
    {
     "data": {
      "text/plain": [
       "array([[ 1000.        , 10000.        ],\n",
       "       [  500.        ,  5000.        ],\n",
       "       [  500.00683255,  4999.89909577],\n",
       "       ...,\n",
       "       [  980.34667468,  1660.18258718],\n",
       "       [  980.36007121,  1660.1991955 ],\n",
       "       [  980.37346792,  1660.21580419]])"
      ]
     },
     "execution_count": 128,
     "metadata": {},
     "output_type": "execute_result"
    }
   ],
   "source": [
    "cellgeneration(initial_array=cellgeneration())"
   ]
  },
  {
   "cell_type": "code",
   "execution_count": 36,
   "metadata": {},
   "outputs": [
    {
     "data": {
      "text/plain": [
       "array([1.        , 1.02040748, 1.04123138, 1.06248027, 1.0841628 ,\n",
       "       1.10628781, 1.12886433, 1.15190159, 1.17540897, 1.19939609,\n",
       "       1.22387272, 1.24884886, 1.27433469, 1.30034064, 1.3268773 ,\n",
       "       1.3539555 , 1.38158629, 1.40978096, 1.438551  , 1.46790818,\n",
       "       1.49786446, 1.52843207, 1.55962349, 1.59145145, 1.62392893,\n",
       "       1.6570692 , 1.69088578, 1.72539247, 1.76060335, 1.7965328 ,\n",
       "       1.83319548, 1.87060634, 1.90878067, 1.94773404, 1.98748236,\n",
       "       2.02804185, 2.06942905, 2.11166087, 2.15475453, 2.19872761,\n",
       "       2.24359805, 2.28938418, 2.33610469, 2.38377864, 2.4324255 ,\n",
       "       2.48206514, 2.53271779, 2.58440413, 2.63714527, 2.69096271,\n",
       "       2.74587843, 2.80191485, 2.85909482, 2.91744169, 2.97697927,\n",
       "       3.03773186, 3.09972426, 3.16298177, 3.2275302 , 3.2933959 ,\n",
       "       3.36060575, 3.42918719, 3.49916819, 3.57057734, 3.64344376,\n",
       "       3.71779721, 3.79366801, 3.87108715, 3.95008621, 4.03069745,\n",
       "       4.11295376, 4.19688871, 4.28253655, 4.36993226, 4.45911149,\n",
       "       4.55011064, 4.64296685, 4.73771802, 4.83440283, 4.93306073,\n",
       "       5.03373198, 5.13645769, 5.24127976, 5.34824098, 5.457385  ,\n",
       "       5.56875638, 5.68240056, 5.79836393, 5.91669382, 6.03743852,\n",
       "       6.16064732, 6.2863705 , 6.41465936, 6.54556628, 6.67914467,\n",
       "       6.81544906, 6.95453508, 7.09645949, 7.24128022, 7.38905637])"
      ]
     },
     "execution_count": 36,
     "metadata": {},
     "output_type": "execute_result"
    }
   ],
   "source": [
    "ribo"
   ]
  },
  {
   "cell_type": "code",
   "execution_count": 94,
   "metadata": {},
   "outputs": [
    {
     "data": {
      "text/plain": [
       "2"
      ]
     },
     "execution_count": 94,
     "metadata": {},
     "output_type": "execute_result"
    }
   ],
   "source": [
    "2"
   ]
  },
  {
   "cell_type": "code",
   "execution_count": null,
   "metadata": {
    "collapsed": true
   },
   "outputs": [],
   "source": []
  }
 ],
 "metadata": {
  "kernelspec": {
   "display_name": "Python 3",
   "language": "python",
   "name": "python3"
  },
  "language_info": {
   "codemirror_mode": {
    "name": "ipython",
    "version": 3
   },
   "file_extension": ".py",
   "mimetype": "text/x-python",
   "name": "python",
   "nbconvert_exporter": "python",
   "pygments_lexer": "ipython3",
   "version": "3.6.2"
  }
 },
 "nbformat": 4,
 "nbformat_minor": 2
}
